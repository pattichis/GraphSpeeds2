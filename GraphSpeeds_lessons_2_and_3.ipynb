{
  "cells": [
    {
      "cell_type": "markdown",
      "metadata": {
        "id": "view-in-github",
        "colab_type": "text"
      },
      "source": [
        "<a href=\"https://colab.research.google.com/github/pattichis/GraphSpeeds2/blob/main/GraphSpeeds_lessons_2_and_3.ipynb\" target=\"_parent\"><img src=\"https://colab.research.google.com/assets/colab-badge.svg\" alt=\"Open In Colab\"/></a>"
      ]
    },
    {
      "cell_type": "markdown",
      "metadata": {
        "id": "ZM0Se99HlPE4"
      },
      "source": [
        "# Setup system\n",
        "Setup the system and get files from the internet.\n",
        "\n",
        "In the following code, we will download the necessary files from the internet."
      ]
    },
    {
      "cell_type": "code",
      "execution_count": 1,
      "metadata": {
        "colab": {
          "base_uri": "https://localhost:8080/"
        },
        "id": "gl5jbrH2lPE7",
        "outputId": "18d2c38d-0e40-4f08-ad35-a205f752c337"
      },
      "outputs": [
        {
          "output_type": "stream",
          "name": "stdout",
          "text": [
            "Collecting kaleido\n",
            "  Downloading kaleido-0.2.1-py2.py3-none-manylinux1_x86_64.whl.metadata (15 kB)\n",
            "Downloading kaleido-0.2.1-py2.py3-none-manylinux1_x86_64.whl (79.9 MB)\n",
            "\u001b[2K   \u001b[90m━━━━━━━━━━━━━━━━━━━━━━━━━━━━━━━━━━━━━━━━\u001b[0m \u001b[32m79.9/79.9 MB\u001b[0m \u001b[31m6.6 MB/s\u001b[0m eta \u001b[36m0:00:00\u001b[0m\n",
            "\u001b[?25hInstalling collected packages: kaleido\n",
            "Successfully installed kaleido-0.2.1\n",
            "Mounted at /content/drive\n",
            "Directory changed successfully.\n",
            "--2025-03-22 20:10:11--  https://raw.githubusercontent.com/pattichis/GraphSpeeds2/main/lineart_v4.py\n",
            "Resolving raw.githubusercontent.com (raw.githubusercontent.com)... 185.199.111.133, 185.199.108.133, 185.199.109.133, ...\n",
            "Connecting to raw.githubusercontent.com (raw.githubusercontent.com)|185.199.111.133|:443... connected.\n",
            "HTTP request sent, awaiting response... 200 OK\n",
            "Length: 34249 (33K) [text/plain]\n",
            "Saving to: ‘lineart_v4.py’\n",
            "\n",
            "lineart_v4.py       100%[===================>]  33.45K  --.-KB/s    in 0.006s  \n",
            "\n",
            "2025-03-22 20:10:12 (5.38 MB/s) - ‘lineart_v4.py’ saved [34249/34249]\n",
            "\n",
            "File ‘Elephant.png’ already there; not retrieving.\n",
            "\n",
            "--2025-03-22 20:10:12--  https://raw.githubusercontent.com/pattichis/GraphSpeeds2/main/Squirrel.png\n",
            "Resolving raw.githubusercontent.com (raw.githubusercontent.com)... 185.199.108.133, 185.199.109.133, 185.199.110.133, ...\n",
            "Connecting to raw.githubusercontent.com (raw.githubusercontent.com)|185.199.108.133|:443... connected.\n",
            "HTTP request sent, awaiting response... 404 Not Found\n",
            "2025-03-22 20:10:12 ERROR 404: Not Found.\n",
            "\n",
            "File ‘Tortoise.jpg’ already there; not retrieving.\n",
            "\n",
            "File ‘Koala.jpeg’ already there; not retrieving.\n",
            "\n",
            "pygame 2.6.1 (SDL 2.28.4, Python 3.11.11)\n",
            "Hello from the pygame community. https://www.pygame.org/contribute.html\n"
          ]
        },
        {
          "output_type": "stream",
          "name": "stderr",
          "text": [
            "WARNING:py.warnings:/usr/local/lib/python3.11/dist-packages/moviepy/video/io/sliders.py:61: SyntaxWarning: \"is\" with a literal. Did you mean \"==\"?\n",
            "  if event.key is 'enter':\n",
            "\n"
          ]
        }
      ],
      "source": [
        "# SETUP: Please ignore this part.\n",
        "\n",
        "# Remove existing files\n",
        "import os\n",
        "\n",
        "# Stop pygame from opening a window\n",
        "os.environ[\"SDL_VIDEODRIVER\"] = \"dummy\"\n",
        "\n",
        "# Install kaleido package\n",
        "!pip install -U kaleido\n",
        "\n",
        "# Mount the drive:\n",
        "from google.colab import drive\n",
        "drive.mount('/content/drive')\n",
        "\n",
        "try:\n",
        "  os.chdir(\"/content/drive/MyDrive/Race-2025\")\n",
        "  print(\"Directory changed successfully.\")\n",
        "except FileNotFoundError:\n",
        "  print(\"Error: Race-2025 directory not found.\")\n",
        "\n",
        "  # Create a local directory\n",
        "  !mkdir /content/drive/MyDrive/Race-2025\n",
        "\n",
        "  # Get the repo as a zip file and save it locally:\n",
        "  !wget https://github.com/pattichis/GraphSpeeds2/archive/refs/heads/main.zip -O repo.zip\n",
        "  !unzip repo.zip -d /content/drive/MyDrive/Race-2025/\n",
        "  !rm -f repo.zip\n",
        "\n",
        "\n",
        "#!find './' -maxdepth 1 -type f -delete\n",
        "\n",
        "# Use wget with -nc to avoid overwriting local copy.\n",
        "!rm -f lineart_v4.py*\n",
        "!wget https://raw.githubusercontent.com/pattichis/GraphSpeeds2/main/lineart_v4.py\n",
        "\n",
        "# Download the pictures:\n",
        "!wget -nc https://raw.githubusercontent.com/pattichis/GraphSpeeds2/main/Elephant.png\n",
        "!wget -nc https://raw.githubusercontent.com/pattichis/GraphSpeeds2/main/Squirrel.png\n",
        "!wget -nc https://raw.githubusercontent.com/pattichis/GraphSpeeds2/main/Tortoise.jpg\n",
        "!wget -nc https://raw.githubusercontent.com/pattichis/GraphSpeeds2/main/Koala.jpeg\n",
        "\n",
        "# Import the functions to use\n",
        "from lineart_v4 import table, simulationVideo, textImage, plotTablesLines, CreateVideo, changeVideoSpeed"
      ]
    },
    {
      "cell_type": "markdown",
      "metadata": {
        "id": "owEXIJq-lPE-"
      },
      "source": [
        "# Build Tables\n",
        "In coding, objects are used to save functions and their data for processing.\n",
        "We can create an object using a <tt>constructor</tt>.\n",
        "\n",
        "Here we create a table object to store information using:\n",
        "```\n",
        "# Enter the table values:\n",
        "column_labels = [\"x (hours)\", \"y (miles)\"]\n",
        "time_values     = [0,  1,  3,   4, -1] # <- Replace -1 value by correct one.\n",
        "distance_values = [0,  11, 33, -1, 88] # <- Replace -1 value by correct one.\n",
        "\n",
        "# Create a table for the Squirrel data\n",
        "Squirrel = table(x=time_values, y=distance_values, column_labels=column_labels)\n",
        "```\n",
        "We can see what we stored using <tt>print()</tt>.\n",
        "\n",
        "However, a nicer way to see the values is to use <tt>plotTable():</tt>\n",
        "```\n",
        "Squirrel.plotTable()\n",
        "```\n",
        "You can save an image using <tt>saveImage()</tt> as shown below:\n",
        "```\n",
        "Squirrel.saveImage(\"squirrel-table.jpg\") # <- Can you find this image?\n",
        "```\n",
        "This will save the table in the file <tt>squirrel-table.png</tt>.\n",
        "\n",
        "## Assignment: Fill in the tables\n",
        "Study the code below.\n",
        "Then perform the following:\n",
        "1. Replace the -1 values with the correct values. Discuss within your group.\n",
        "2. Click on the generated table image and open it.\n",
        "3. What is the filename of each table image?"
      ]
    },
    {
      "cell_type": "code",
      "execution_count": 2,
      "metadata": {
        "colab": {
          "base_uri": "https://localhost:8080/",
          "height": 560
        },
        "outputId": "d6b2a990-abb7-4e30-fee6-eca358aa569b",
        "id": "OE9c2gswR5lu"
      },
      "outputs": [
        {
          "output_type": "display_data",
          "data": {
            "text/html": [
              "<html>\n",
              "<head><meta charset=\"utf-8\" /></head>\n",
              "<body>\n",
              "    <div>            <script src=\"https://cdnjs.cloudflare.com/ajax/libs/mathjax/2.7.5/MathJax.js?config=TeX-AMS-MML_SVG\"></script><script type=\"text/javascript\">if (window.MathJax && window.MathJax.Hub && window.MathJax.Hub.Config) {window.MathJax.Hub.Config({SVG: {font: \"STIX-Web\"}});}</script>                <script type=\"text/javascript\">window.PlotlyConfig = {MathJaxConfig: 'local'};</script>\n",
              "        <script charset=\"utf-8\" src=\"https://cdn.plot.ly/plotly-2.35.2.min.js\"></script>                <div id=\"6e691d94-3e86-4764-bcce-56846f81b727\" class=\"plotly-graph-div\" style=\"height:525px; width:100%;\"></div>            <script type=\"text/javascript\">                                    window.PLOTLYENV=window.PLOTLYENV || {};                                    if (document.getElementById(\"6e691d94-3e86-4764-bcce-56846f81b727\")) {                    Plotly.newPlot(                        \"6e691d94-3e86-4764-bcce-56846f81b727\",                        [{\"cells\":{\"format\":[\".5f\",\".5f\"],\"values\":[[0,1,3,4,-1],[0,11,33,-1,88]]},\"header\":{\"values\":[\"x (hours)\",\"y (miles)\"]},\"type\":\"table\"}],                        {\"template\":{\"data\":{\"histogram2dcontour\":[{\"type\":\"histogram2dcontour\",\"colorbar\":{\"outlinewidth\":0,\"ticks\":\"\"},\"colorscale\":[[0.0,\"#0d0887\"],[0.1111111111111111,\"#46039f\"],[0.2222222222222222,\"#7201a8\"],[0.3333333333333333,\"#9c179e\"],[0.4444444444444444,\"#bd3786\"],[0.5555555555555556,\"#d8576b\"],[0.6666666666666666,\"#ed7953\"],[0.7777777777777778,\"#fb9f3a\"],[0.8888888888888888,\"#fdca26\"],[1.0,\"#f0f921\"]]}],\"choropleth\":[{\"type\":\"choropleth\",\"colorbar\":{\"outlinewidth\":0,\"ticks\":\"\"}}],\"histogram2d\":[{\"type\":\"histogram2d\",\"colorbar\":{\"outlinewidth\":0,\"ticks\":\"\"},\"colorscale\":[[0.0,\"#0d0887\"],[0.1111111111111111,\"#46039f\"],[0.2222222222222222,\"#7201a8\"],[0.3333333333333333,\"#9c179e\"],[0.4444444444444444,\"#bd3786\"],[0.5555555555555556,\"#d8576b\"],[0.6666666666666666,\"#ed7953\"],[0.7777777777777778,\"#fb9f3a\"],[0.8888888888888888,\"#fdca26\"],[1.0,\"#f0f921\"]]}],\"heatmap\":[{\"type\":\"heatmap\",\"colorbar\":{\"outlinewidth\":0,\"ticks\":\"\"},\"colorscale\":[[0.0,\"#0d0887\"],[0.1111111111111111,\"#46039f\"],[0.2222222222222222,\"#7201a8\"],[0.3333333333333333,\"#9c179e\"],[0.4444444444444444,\"#bd3786\"],[0.5555555555555556,\"#d8576b\"],[0.6666666666666666,\"#ed7953\"],[0.7777777777777778,\"#fb9f3a\"],[0.8888888888888888,\"#fdca26\"],[1.0,\"#f0f921\"]]}],\"heatmapgl\":[{\"type\":\"heatmapgl\",\"colorbar\":{\"outlinewidth\":0,\"ticks\":\"\"},\"colorscale\":[[0.0,\"#0d0887\"],[0.1111111111111111,\"#46039f\"],[0.2222222222222222,\"#7201a8\"],[0.3333333333333333,\"#9c179e\"],[0.4444444444444444,\"#bd3786\"],[0.5555555555555556,\"#d8576b\"],[0.6666666666666666,\"#ed7953\"],[0.7777777777777778,\"#fb9f3a\"],[0.8888888888888888,\"#fdca26\"],[1.0,\"#f0f921\"]]}],\"contourcarpet\":[{\"type\":\"contourcarpet\",\"colorbar\":{\"outlinewidth\":0,\"ticks\":\"\"}}],\"contour\":[{\"type\":\"contour\",\"colorbar\":{\"outlinewidth\":0,\"ticks\":\"\"},\"colorscale\":[[0.0,\"#0d0887\"],[0.1111111111111111,\"#46039f\"],[0.2222222222222222,\"#7201a8\"],[0.3333333333333333,\"#9c179e\"],[0.4444444444444444,\"#bd3786\"],[0.5555555555555556,\"#d8576b\"],[0.6666666666666666,\"#ed7953\"],[0.7777777777777778,\"#fb9f3a\"],[0.8888888888888888,\"#fdca26\"],[1.0,\"#f0f921\"]]}],\"surface\":[{\"type\":\"surface\",\"colorbar\":{\"outlinewidth\":0,\"ticks\":\"\"},\"colorscale\":[[0.0,\"#0d0887\"],[0.1111111111111111,\"#46039f\"],[0.2222222222222222,\"#7201a8\"],[0.3333333333333333,\"#9c179e\"],[0.4444444444444444,\"#bd3786\"],[0.5555555555555556,\"#d8576b\"],[0.6666666666666666,\"#ed7953\"],[0.7777777777777778,\"#fb9f3a\"],[0.8888888888888888,\"#fdca26\"],[1.0,\"#f0f921\"]]}],\"mesh3d\":[{\"type\":\"mesh3d\",\"colorbar\":{\"outlinewidth\":0,\"ticks\":\"\"}}],\"scatter\":[{\"fillpattern\":{\"fillmode\":\"overlay\",\"size\":10,\"solidity\":0.2},\"type\":\"scatter\"}],\"parcoords\":[{\"type\":\"parcoords\",\"line\":{\"colorbar\":{\"outlinewidth\":0,\"ticks\":\"\"}}}],\"scatterpolargl\":[{\"type\":\"scatterpolargl\",\"marker\":{\"colorbar\":{\"outlinewidth\":0,\"ticks\":\"\"}}}],\"bar\":[{\"error_x\":{\"color\":\"#2a3f5f\"},\"error_y\":{\"color\":\"#2a3f5f\"},\"marker\":{\"line\":{\"color\":\"#E5ECF6\",\"width\":0.5},\"pattern\":{\"fillmode\":\"overlay\",\"size\":10,\"solidity\":0.2}},\"type\":\"bar\"}],\"scattergeo\":[{\"type\":\"scattergeo\",\"marker\":{\"colorbar\":{\"outlinewidth\":0,\"ticks\":\"\"}}}],\"scatterpolar\":[{\"type\":\"scatterpolar\",\"marker\":{\"colorbar\":{\"outlinewidth\":0,\"ticks\":\"\"}}}],\"histogram\":[{\"marker\":{\"pattern\":{\"fillmode\":\"overlay\",\"size\":10,\"solidity\":0.2}},\"type\":\"histogram\"}],\"scattergl\":[{\"type\":\"scattergl\",\"marker\":{\"colorbar\":{\"outlinewidth\":0,\"ticks\":\"\"}}}],\"scatter3d\":[{\"type\":\"scatter3d\",\"line\":{\"colorbar\":{\"outlinewidth\":0,\"ticks\":\"\"}},\"marker\":{\"colorbar\":{\"outlinewidth\":0,\"ticks\":\"\"}}}],\"scattermapbox\":[{\"type\":\"scattermapbox\",\"marker\":{\"colorbar\":{\"outlinewidth\":0,\"ticks\":\"\"}}}],\"scatterternary\":[{\"type\":\"scatterternary\",\"marker\":{\"colorbar\":{\"outlinewidth\":0,\"ticks\":\"\"}}}],\"scattercarpet\":[{\"type\":\"scattercarpet\",\"marker\":{\"colorbar\":{\"outlinewidth\":0,\"ticks\":\"\"}}}],\"carpet\":[{\"aaxis\":{\"endlinecolor\":\"#2a3f5f\",\"gridcolor\":\"white\",\"linecolor\":\"white\",\"minorgridcolor\":\"white\",\"startlinecolor\":\"#2a3f5f\"},\"baxis\":{\"endlinecolor\":\"#2a3f5f\",\"gridcolor\":\"white\",\"linecolor\":\"white\",\"minorgridcolor\":\"white\",\"startlinecolor\":\"#2a3f5f\"},\"type\":\"carpet\"}],\"table\":[{\"cells\":{\"fill\":{\"color\":\"#EBF0F8\"},\"line\":{\"color\":\"white\"}},\"header\":{\"fill\":{\"color\":\"#C8D4E3\"},\"line\":{\"color\":\"white\"}},\"type\":\"table\"}],\"barpolar\":[{\"marker\":{\"line\":{\"color\":\"#E5ECF6\",\"width\":0.5},\"pattern\":{\"fillmode\":\"overlay\",\"size\":10,\"solidity\":0.2}},\"type\":\"barpolar\"}],\"pie\":[{\"automargin\":true,\"type\":\"pie\"}]},\"layout\":{\"autotypenumbers\":\"strict\",\"colorway\":[\"#636efa\",\"#EF553B\",\"#00cc96\",\"#ab63fa\",\"#FFA15A\",\"#19d3f3\",\"#FF6692\",\"#B6E880\",\"#FF97FF\",\"#FECB52\"],\"font\":{\"color\":\"#2a3f5f\"},\"hovermode\":\"closest\",\"hoverlabel\":{\"align\":\"left\"},\"paper_bgcolor\":\"white\",\"plot_bgcolor\":\"#E5ECF6\",\"polar\":{\"bgcolor\":\"#E5ECF6\",\"angularaxis\":{\"gridcolor\":\"white\",\"linecolor\":\"white\",\"ticks\":\"\"},\"radialaxis\":{\"gridcolor\":\"white\",\"linecolor\":\"white\",\"ticks\":\"\"}},\"ternary\":{\"bgcolor\":\"#E5ECF6\",\"aaxis\":{\"gridcolor\":\"white\",\"linecolor\":\"white\",\"ticks\":\"\"},\"baxis\":{\"gridcolor\":\"white\",\"linecolor\":\"white\",\"ticks\":\"\"},\"caxis\":{\"gridcolor\":\"white\",\"linecolor\":\"white\",\"ticks\":\"\"}},\"coloraxis\":{\"colorbar\":{\"outlinewidth\":0,\"ticks\":\"\"}},\"colorscale\":{\"sequential\":[[0.0,\"#0d0887\"],[0.1111111111111111,\"#46039f\"],[0.2222222222222222,\"#7201a8\"],[0.3333333333333333,\"#9c179e\"],[0.4444444444444444,\"#bd3786\"],[0.5555555555555556,\"#d8576b\"],[0.6666666666666666,\"#ed7953\"],[0.7777777777777778,\"#fb9f3a\"],[0.8888888888888888,\"#fdca26\"],[1.0,\"#f0f921\"]],\"sequentialminus\":[[0.0,\"#0d0887\"],[0.1111111111111111,\"#46039f\"],[0.2222222222222222,\"#7201a8\"],[0.3333333333333333,\"#9c179e\"],[0.4444444444444444,\"#bd3786\"],[0.5555555555555556,\"#d8576b\"],[0.6666666666666666,\"#ed7953\"],[0.7777777777777778,\"#fb9f3a\"],[0.8888888888888888,\"#fdca26\"],[1.0,\"#f0f921\"]],\"diverging\":[[0,\"#8e0152\"],[0.1,\"#c51b7d\"],[0.2,\"#de77ae\"],[0.3,\"#f1b6da\"],[0.4,\"#fde0ef\"],[0.5,\"#f7f7f7\"],[0.6,\"#e6f5d0\"],[0.7,\"#b8e186\"],[0.8,\"#7fbc41\"],[0.9,\"#4d9221\"],[1,\"#276419\"]]},\"xaxis\":{\"gridcolor\":\"white\",\"linecolor\":\"white\",\"ticks\":\"\",\"title\":{\"standoff\":15},\"zerolinecolor\":\"white\",\"automargin\":true,\"zerolinewidth\":2},\"yaxis\":{\"gridcolor\":\"white\",\"linecolor\":\"white\",\"ticks\":\"\",\"title\":{\"standoff\":15},\"zerolinecolor\":\"white\",\"automargin\":true,\"zerolinewidth\":2},\"scene\":{\"xaxis\":{\"backgroundcolor\":\"#E5ECF6\",\"gridcolor\":\"white\",\"linecolor\":\"white\",\"showbackground\":true,\"ticks\":\"\",\"zerolinecolor\":\"white\",\"gridwidth\":2},\"yaxis\":{\"backgroundcolor\":\"#E5ECF6\",\"gridcolor\":\"white\",\"linecolor\":\"white\",\"showbackground\":true,\"ticks\":\"\",\"zerolinecolor\":\"white\",\"gridwidth\":2},\"zaxis\":{\"backgroundcolor\":\"#E5ECF6\",\"gridcolor\":\"white\",\"linecolor\":\"white\",\"showbackground\":true,\"ticks\":\"\",\"zerolinecolor\":\"white\",\"gridwidth\":2}},\"shapedefaults\":{\"line\":{\"color\":\"#2a3f5f\"}},\"annotationdefaults\":{\"arrowcolor\":\"#2a3f5f\",\"arrowhead\":0,\"arrowwidth\":1},\"geo\":{\"bgcolor\":\"white\",\"landcolor\":\"#E5ECF6\",\"subunitcolor\":\"white\",\"showland\":true,\"showlakes\":true,\"lakecolor\":\"white\"},\"title\":{\"x\":0.05},\"mapbox\":{\"style\":\"light\"}}},\"autosize\":false},                        {\"responsive\": true}                    ).then(function(){\n",
              "                            \n",
              "var gd = document.getElementById('6e691d94-3e86-4764-bcce-56846f81b727');\n",
              "var x = new MutationObserver(function (mutations, observer) {{\n",
              "        var display = window.getComputedStyle(gd).display;\n",
              "        if (!display || display === 'none') {{\n",
              "            console.log([gd, 'removed!']);\n",
              "            Plotly.purge(gd);\n",
              "            observer.disconnect();\n",
              "        }}\n",
              "}});\n",
              "\n",
              "// Listen for the removal of the full notebook cells\n",
              "var notebookContainer = gd.closest('#notebook-container');\n",
              "if (notebookContainer) {{\n",
              "    x.observe(notebookContainer, {childList: true});\n",
              "}}\n",
              "\n",
              "// Listen for the clearing of the current output cell\n",
              "var outputEl = gd.closest('.output');\n",
              "if (outputEl) {{\n",
              "    x.observe(outputEl, {childList: true});\n",
              "}}\n",
              "\n",
              "                        })                };                            </script>        </div>\n",
              "</body>\n",
              "</html>"
            ]
          },
          "metadata": {}
        },
        {
          "output_type": "stream",
          "name": "stdout",
          "text": [
            "Wrote  squirrel-table.jpg\n"
          ]
        }
      ],
      "source": [
        "# Enter the table values:\n",
        "column_labels = [\"x (hours)\", \"y (miles)\"]\n",
        "time_values     = [0,  1,  3,   4, -1] # <- Replace -1 value by correct one.\n",
        "distance_values = [0,  11, 33, -1, 88] # <- Replace -1 value by correct one.\n",
        "\n",
        "# Create a table for the Squirrel data\n",
        "Squirrel = table(x=time_values, y=distance_values, column_labels=column_labels)\n",
        "\n",
        "# Plot the table\n",
        "Squirrel.plotTable()\n",
        "\n",
        "# Save the image for the table\n",
        "Squirrel.saveImage(\"squirrel-table.jpg\") # <- Can you find this image?"
      ]
    },
    {
      "cell_type": "code",
      "execution_count": 3,
      "metadata": {
        "id": "gZ0Am7zoVY1i",
        "colab": {
          "base_uri": "https://localhost:8080/",
          "height": 560
        },
        "outputId": "ecf0850e-4880-4e9f-b042-2eb26c5eb48a"
      },
      "outputs": [
        {
          "output_type": "display_data",
          "data": {
            "text/html": [
              "<html>\n",
              "<head><meta charset=\"utf-8\" /></head>\n",
              "<body>\n",
              "    <div>            <script src=\"https://cdnjs.cloudflare.com/ajax/libs/mathjax/2.7.5/MathJax.js?config=TeX-AMS-MML_SVG\"></script><script type=\"text/javascript\">if (window.MathJax && window.MathJax.Hub && window.MathJax.Hub.Config) {window.MathJax.Hub.Config({SVG: {font: \"STIX-Web\"}});}</script>                <script type=\"text/javascript\">window.PlotlyConfig = {MathJaxConfig: 'local'};</script>\n",
              "        <script charset=\"utf-8\" src=\"https://cdn.plot.ly/plotly-2.35.2.min.js\"></script>                <div id=\"ef4a4e0f-55f9-46a8-997e-b0cf8a764455\" class=\"plotly-graph-div\" style=\"height:525px; width:100%;\"></div>            <script type=\"text/javascript\">                                    window.PLOTLYENV=window.PLOTLYENV || {};                                    if (document.getElementById(\"ef4a4e0f-55f9-46a8-997e-b0cf8a764455\")) {                    Plotly.newPlot(                        \"ef4a4e0f-55f9-46a8-997e-b0cf8a764455\",                        [{\"cells\":{\"format\":[\".5f\",\".5f\"],\"values\":[[0,3,5,6,-1],[0,18,-1,36,60]]},\"header\":{\"values\":[\"x (hours)\",\"y (miles)\"]},\"type\":\"table\"}],                        {\"template\":{\"data\":{\"histogram2dcontour\":[{\"type\":\"histogram2dcontour\",\"colorbar\":{\"outlinewidth\":0,\"ticks\":\"\"},\"colorscale\":[[0.0,\"#0d0887\"],[0.1111111111111111,\"#46039f\"],[0.2222222222222222,\"#7201a8\"],[0.3333333333333333,\"#9c179e\"],[0.4444444444444444,\"#bd3786\"],[0.5555555555555556,\"#d8576b\"],[0.6666666666666666,\"#ed7953\"],[0.7777777777777778,\"#fb9f3a\"],[0.8888888888888888,\"#fdca26\"],[1.0,\"#f0f921\"]]}],\"choropleth\":[{\"type\":\"choropleth\",\"colorbar\":{\"outlinewidth\":0,\"ticks\":\"\"}}],\"histogram2d\":[{\"type\":\"histogram2d\",\"colorbar\":{\"outlinewidth\":0,\"ticks\":\"\"},\"colorscale\":[[0.0,\"#0d0887\"],[0.1111111111111111,\"#46039f\"],[0.2222222222222222,\"#7201a8\"],[0.3333333333333333,\"#9c179e\"],[0.4444444444444444,\"#bd3786\"],[0.5555555555555556,\"#d8576b\"],[0.6666666666666666,\"#ed7953\"],[0.7777777777777778,\"#fb9f3a\"],[0.8888888888888888,\"#fdca26\"],[1.0,\"#f0f921\"]]}],\"heatmap\":[{\"type\":\"heatmap\",\"colorbar\":{\"outlinewidth\":0,\"ticks\":\"\"},\"colorscale\":[[0.0,\"#0d0887\"],[0.1111111111111111,\"#46039f\"],[0.2222222222222222,\"#7201a8\"],[0.3333333333333333,\"#9c179e\"],[0.4444444444444444,\"#bd3786\"],[0.5555555555555556,\"#d8576b\"],[0.6666666666666666,\"#ed7953\"],[0.7777777777777778,\"#fb9f3a\"],[0.8888888888888888,\"#fdca26\"],[1.0,\"#f0f921\"]]}],\"heatmapgl\":[{\"type\":\"heatmapgl\",\"colorbar\":{\"outlinewidth\":0,\"ticks\":\"\"},\"colorscale\":[[0.0,\"#0d0887\"],[0.1111111111111111,\"#46039f\"],[0.2222222222222222,\"#7201a8\"],[0.3333333333333333,\"#9c179e\"],[0.4444444444444444,\"#bd3786\"],[0.5555555555555556,\"#d8576b\"],[0.6666666666666666,\"#ed7953\"],[0.7777777777777778,\"#fb9f3a\"],[0.8888888888888888,\"#fdca26\"],[1.0,\"#f0f921\"]]}],\"contourcarpet\":[{\"type\":\"contourcarpet\",\"colorbar\":{\"outlinewidth\":0,\"ticks\":\"\"}}],\"contour\":[{\"type\":\"contour\",\"colorbar\":{\"outlinewidth\":0,\"ticks\":\"\"},\"colorscale\":[[0.0,\"#0d0887\"],[0.1111111111111111,\"#46039f\"],[0.2222222222222222,\"#7201a8\"],[0.3333333333333333,\"#9c179e\"],[0.4444444444444444,\"#bd3786\"],[0.5555555555555556,\"#d8576b\"],[0.6666666666666666,\"#ed7953\"],[0.7777777777777778,\"#fb9f3a\"],[0.8888888888888888,\"#fdca26\"],[1.0,\"#f0f921\"]]}],\"surface\":[{\"type\":\"surface\",\"colorbar\":{\"outlinewidth\":0,\"ticks\":\"\"},\"colorscale\":[[0.0,\"#0d0887\"],[0.1111111111111111,\"#46039f\"],[0.2222222222222222,\"#7201a8\"],[0.3333333333333333,\"#9c179e\"],[0.4444444444444444,\"#bd3786\"],[0.5555555555555556,\"#d8576b\"],[0.6666666666666666,\"#ed7953\"],[0.7777777777777778,\"#fb9f3a\"],[0.8888888888888888,\"#fdca26\"],[1.0,\"#f0f921\"]]}],\"mesh3d\":[{\"type\":\"mesh3d\",\"colorbar\":{\"outlinewidth\":0,\"ticks\":\"\"}}],\"scatter\":[{\"fillpattern\":{\"fillmode\":\"overlay\",\"size\":10,\"solidity\":0.2},\"type\":\"scatter\"}],\"parcoords\":[{\"type\":\"parcoords\",\"line\":{\"colorbar\":{\"outlinewidth\":0,\"ticks\":\"\"}}}],\"scatterpolargl\":[{\"type\":\"scatterpolargl\",\"marker\":{\"colorbar\":{\"outlinewidth\":0,\"ticks\":\"\"}}}],\"bar\":[{\"error_x\":{\"color\":\"#2a3f5f\"},\"error_y\":{\"color\":\"#2a3f5f\"},\"marker\":{\"line\":{\"color\":\"#E5ECF6\",\"width\":0.5},\"pattern\":{\"fillmode\":\"overlay\",\"size\":10,\"solidity\":0.2}},\"type\":\"bar\"}],\"scattergeo\":[{\"type\":\"scattergeo\",\"marker\":{\"colorbar\":{\"outlinewidth\":0,\"ticks\":\"\"}}}],\"scatterpolar\":[{\"type\":\"scatterpolar\",\"marker\":{\"colorbar\":{\"outlinewidth\":0,\"ticks\":\"\"}}}],\"histogram\":[{\"marker\":{\"pattern\":{\"fillmode\":\"overlay\",\"size\":10,\"solidity\":0.2}},\"type\":\"histogram\"}],\"scattergl\":[{\"type\":\"scattergl\",\"marker\":{\"colorbar\":{\"outlinewidth\":0,\"ticks\":\"\"}}}],\"scatter3d\":[{\"type\":\"scatter3d\",\"line\":{\"colorbar\":{\"outlinewidth\":0,\"ticks\":\"\"}},\"marker\":{\"colorbar\":{\"outlinewidth\":0,\"ticks\":\"\"}}}],\"scattermapbox\":[{\"type\":\"scattermapbox\",\"marker\":{\"colorbar\":{\"outlinewidth\":0,\"ticks\":\"\"}}}],\"scatterternary\":[{\"type\":\"scatterternary\",\"marker\":{\"colorbar\":{\"outlinewidth\":0,\"ticks\":\"\"}}}],\"scattercarpet\":[{\"type\":\"scattercarpet\",\"marker\":{\"colorbar\":{\"outlinewidth\":0,\"ticks\":\"\"}}}],\"carpet\":[{\"aaxis\":{\"endlinecolor\":\"#2a3f5f\",\"gridcolor\":\"white\",\"linecolor\":\"white\",\"minorgridcolor\":\"white\",\"startlinecolor\":\"#2a3f5f\"},\"baxis\":{\"endlinecolor\":\"#2a3f5f\",\"gridcolor\":\"white\",\"linecolor\":\"white\",\"minorgridcolor\":\"white\",\"startlinecolor\":\"#2a3f5f\"},\"type\":\"carpet\"}],\"table\":[{\"cells\":{\"fill\":{\"color\":\"#EBF0F8\"},\"line\":{\"color\":\"white\"}},\"header\":{\"fill\":{\"color\":\"#C8D4E3\"},\"line\":{\"color\":\"white\"}},\"type\":\"table\"}],\"barpolar\":[{\"marker\":{\"line\":{\"color\":\"#E5ECF6\",\"width\":0.5},\"pattern\":{\"fillmode\":\"overlay\",\"size\":10,\"solidity\":0.2}},\"type\":\"barpolar\"}],\"pie\":[{\"automargin\":true,\"type\":\"pie\"}]},\"layout\":{\"autotypenumbers\":\"strict\",\"colorway\":[\"#636efa\",\"#EF553B\",\"#00cc96\",\"#ab63fa\",\"#FFA15A\",\"#19d3f3\",\"#FF6692\",\"#B6E880\",\"#FF97FF\",\"#FECB52\"],\"font\":{\"color\":\"#2a3f5f\"},\"hovermode\":\"closest\",\"hoverlabel\":{\"align\":\"left\"},\"paper_bgcolor\":\"white\",\"plot_bgcolor\":\"#E5ECF6\",\"polar\":{\"bgcolor\":\"#E5ECF6\",\"angularaxis\":{\"gridcolor\":\"white\",\"linecolor\":\"white\",\"ticks\":\"\"},\"radialaxis\":{\"gridcolor\":\"white\",\"linecolor\":\"white\",\"ticks\":\"\"}},\"ternary\":{\"bgcolor\":\"#E5ECF6\",\"aaxis\":{\"gridcolor\":\"white\",\"linecolor\":\"white\",\"ticks\":\"\"},\"baxis\":{\"gridcolor\":\"white\",\"linecolor\":\"white\",\"ticks\":\"\"},\"caxis\":{\"gridcolor\":\"white\",\"linecolor\":\"white\",\"ticks\":\"\"}},\"coloraxis\":{\"colorbar\":{\"outlinewidth\":0,\"ticks\":\"\"}},\"colorscale\":{\"sequential\":[[0.0,\"#0d0887\"],[0.1111111111111111,\"#46039f\"],[0.2222222222222222,\"#7201a8\"],[0.3333333333333333,\"#9c179e\"],[0.4444444444444444,\"#bd3786\"],[0.5555555555555556,\"#d8576b\"],[0.6666666666666666,\"#ed7953\"],[0.7777777777777778,\"#fb9f3a\"],[0.8888888888888888,\"#fdca26\"],[1.0,\"#f0f921\"]],\"sequentialminus\":[[0.0,\"#0d0887\"],[0.1111111111111111,\"#46039f\"],[0.2222222222222222,\"#7201a8\"],[0.3333333333333333,\"#9c179e\"],[0.4444444444444444,\"#bd3786\"],[0.5555555555555556,\"#d8576b\"],[0.6666666666666666,\"#ed7953\"],[0.7777777777777778,\"#fb9f3a\"],[0.8888888888888888,\"#fdca26\"],[1.0,\"#f0f921\"]],\"diverging\":[[0,\"#8e0152\"],[0.1,\"#c51b7d\"],[0.2,\"#de77ae\"],[0.3,\"#f1b6da\"],[0.4,\"#fde0ef\"],[0.5,\"#f7f7f7\"],[0.6,\"#e6f5d0\"],[0.7,\"#b8e186\"],[0.8,\"#7fbc41\"],[0.9,\"#4d9221\"],[1,\"#276419\"]]},\"xaxis\":{\"gridcolor\":\"white\",\"linecolor\":\"white\",\"ticks\":\"\",\"title\":{\"standoff\":15},\"zerolinecolor\":\"white\",\"automargin\":true,\"zerolinewidth\":2},\"yaxis\":{\"gridcolor\":\"white\",\"linecolor\":\"white\",\"ticks\":\"\",\"title\":{\"standoff\":15},\"zerolinecolor\":\"white\",\"automargin\":true,\"zerolinewidth\":2},\"scene\":{\"xaxis\":{\"backgroundcolor\":\"#E5ECF6\",\"gridcolor\":\"white\",\"linecolor\":\"white\",\"showbackground\":true,\"ticks\":\"\",\"zerolinecolor\":\"white\",\"gridwidth\":2},\"yaxis\":{\"backgroundcolor\":\"#E5ECF6\",\"gridcolor\":\"white\",\"linecolor\":\"white\",\"showbackground\":true,\"ticks\":\"\",\"zerolinecolor\":\"white\",\"gridwidth\":2},\"zaxis\":{\"backgroundcolor\":\"#E5ECF6\",\"gridcolor\":\"white\",\"linecolor\":\"white\",\"showbackground\":true,\"ticks\":\"\",\"zerolinecolor\":\"white\",\"gridwidth\":2}},\"shapedefaults\":{\"line\":{\"color\":\"#2a3f5f\"}},\"annotationdefaults\":{\"arrowcolor\":\"#2a3f5f\",\"arrowhead\":0,\"arrowwidth\":1},\"geo\":{\"bgcolor\":\"white\",\"landcolor\":\"#E5ECF6\",\"subunitcolor\":\"white\",\"showland\":true,\"showlakes\":true,\"lakecolor\":\"white\"},\"title\":{\"x\":0.05},\"mapbox\":{\"style\":\"light\"}}},\"autosize\":false},                        {\"responsive\": true}                    ).then(function(){\n",
              "                            \n",
              "var gd = document.getElementById('ef4a4e0f-55f9-46a8-997e-b0cf8a764455');\n",
              "var x = new MutationObserver(function (mutations, observer) {{\n",
              "        var display = window.getComputedStyle(gd).display;\n",
              "        if (!display || display === 'none') {{\n",
              "            console.log([gd, 'removed!']);\n",
              "            Plotly.purge(gd);\n",
              "            observer.disconnect();\n",
              "        }}\n",
              "}});\n",
              "\n",
              "// Listen for the removal of the full notebook cells\n",
              "var notebookContainer = gd.closest('#notebook-container');\n",
              "if (notebookContainer) {{\n",
              "    x.observe(notebookContainer, {childList: true});\n",
              "}}\n",
              "\n",
              "// Listen for the clearing of the current output cell\n",
              "var outputEl = gd.closest('.output');\n",
              "if (outputEl) {{\n",
              "    x.observe(outputEl, {childList: true});\n",
              "}}\n",
              "\n",
              "                        })                };                            </script>        </div>\n",
              "</body>\n",
              "</html>"
            ]
          },
          "metadata": {}
        },
        {
          "output_type": "stream",
          "name": "stdout",
          "text": [
            "Wrote  elephant-table.jpg\n"
          ]
        }
      ],
      "source": [
        "# Enter the table values:\n",
        "column_labels   = [\"x (hours)\", \"y (miles)\"]\n",
        "time_values     = [0, 3,  5,   6, -1]  # <- Replace -1 values with correct ones.\n",
        "distance_values = [0, 18, -1, 36, 60]  # <- Replace -1 values with correct ones.\n",
        "\n",
        "# Create a table for the Elephant data\n",
        "Elephant = table(x=time_values, y=distance_values, column_labels=column_labels)\n",
        "\n",
        "# Plot the table\n",
        "Elephant.plotTable()\n",
        "\n",
        "# Save the image for the table\n",
        "Elephant.saveImage(\"elephant-table.jpg\") # <- Can you find this image?"
      ]
    },
    {
      "cell_type": "code",
      "execution_count": 4,
      "metadata": {
        "id": "AZcWLUICVY1j",
        "colab": {
          "base_uri": "https://localhost:8080/",
          "height": 560
        },
        "outputId": "185ce903-e74f-448b-d3f6-fa6e8c63a56e"
      },
      "outputs": [
        {
          "output_type": "display_data",
          "data": {
            "text/html": [
              "<html>\n",
              "<head><meta charset=\"utf-8\" /></head>\n",
              "<body>\n",
              "    <div>            <script src=\"https://cdnjs.cloudflare.com/ajax/libs/mathjax/2.7.5/MathJax.js?config=TeX-AMS-MML_SVG\"></script><script type=\"text/javascript\">if (window.MathJax && window.MathJax.Hub && window.MathJax.Hub.Config) {window.MathJax.Hub.Config({SVG: {font: \"STIX-Web\"}});}</script>                <script type=\"text/javascript\">window.PlotlyConfig = {MathJaxConfig: 'local'};</script>\n",
              "        <script charset=\"utf-8\" src=\"https://cdn.plot.ly/plotly-2.35.2.min.js\"></script>                <div id=\"a9242f30-b2af-47bf-aeaf-ed5b79695502\" class=\"plotly-graph-div\" style=\"height:525px; width:100%;\"></div>            <script type=\"text/javascript\">                                    window.PLOTLYENV=window.PLOTLYENV || {};                                    if (document.getElementById(\"a9242f30-b2af-47bf-aeaf-ed5b79695502\")) {                    Plotly.newPlot(                        \"a9242f30-b2af-47bf-aeaf-ed5b79695502\",                        [{\"cells\":{\"format\":[\".5f\",\".5f\"],\"values\":[[0,3,5,8,-1],[0,-1,6,9.6,14.4]]},\"header\":{\"values\":[\"x (hours)\",\"y (miles)\"]},\"type\":\"table\"}],                        {\"template\":{\"data\":{\"histogram2dcontour\":[{\"type\":\"histogram2dcontour\",\"colorbar\":{\"outlinewidth\":0,\"ticks\":\"\"},\"colorscale\":[[0.0,\"#0d0887\"],[0.1111111111111111,\"#46039f\"],[0.2222222222222222,\"#7201a8\"],[0.3333333333333333,\"#9c179e\"],[0.4444444444444444,\"#bd3786\"],[0.5555555555555556,\"#d8576b\"],[0.6666666666666666,\"#ed7953\"],[0.7777777777777778,\"#fb9f3a\"],[0.8888888888888888,\"#fdca26\"],[1.0,\"#f0f921\"]]}],\"choropleth\":[{\"type\":\"choropleth\",\"colorbar\":{\"outlinewidth\":0,\"ticks\":\"\"}}],\"histogram2d\":[{\"type\":\"histogram2d\",\"colorbar\":{\"outlinewidth\":0,\"ticks\":\"\"},\"colorscale\":[[0.0,\"#0d0887\"],[0.1111111111111111,\"#46039f\"],[0.2222222222222222,\"#7201a8\"],[0.3333333333333333,\"#9c179e\"],[0.4444444444444444,\"#bd3786\"],[0.5555555555555556,\"#d8576b\"],[0.6666666666666666,\"#ed7953\"],[0.7777777777777778,\"#fb9f3a\"],[0.8888888888888888,\"#fdca26\"],[1.0,\"#f0f921\"]]}],\"heatmap\":[{\"type\":\"heatmap\",\"colorbar\":{\"outlinewidth\":0,\"ticks\":\"\"},\"colorscale\":[[0.0,\"#0d0887\"],[0.1111111111111111,\"#46039f\"],[0.2222222222222222,\"#7201a8\"],[0.3333333333333333,\"#9c179e\"],[0.4444444444444444,\"#bd3786\"],[0.5555555555555556,\"#d8576b\"],[0.6666666666666666,\"#ed7953\"],[0.7777777777777778,\"#fb9f3a\"],[0.8888888888888888,\"#fdca26\"],[1.0,\"#f0f921\"]]}],\"heatmapgl\":[{\"type\":\"heatmapgl\",\"colorbar\":{\"outlinewidth\":0,\"ticks\":\"\"},\"colorscale\":[[0.0,\"#0d0887\"],[0.1111111111111111,\"#46039f\"],[0.2222222222222222,\"#7201a8\"],[0.3333333333333333,\"#9c179e\"],[0.4444444444444444,\"#bd3786\"],[0.5555555555555556,\"#d8576b\"],[0.6666666666666666,\"#ed7953\"],[0.7777777777777778,\"#fb9f3a\"],[0.8888888888888888,\"#fdca26\"],[1.0,\"#f0f921\"]]}],\"contourcarpet\":[{\"type\":\"contourcarpet\",\"colorbar\":{\"outlinewidth\":0,\"ticks\":\"\"}}],\"contour\":[{\"type\":\"contour\",\"colorbar\":{\"outlinewidth\":0,\"ticks\":\"\"},\"colorscale\":[[0.0,\"#0d0887\"],[0.1111111111111111,\"#46039f\"],[0.2222222222222222,\"#7201a8\"],[0.3333333333333333,\"#9c179e\"],[0.4444444444444444,\"#bd3786\"],[0.5555555555555556,\"#d8576b\"],[0.6666666666666666,\"#ed7953\"],[0.7777777777777778,\"#fb9f3a\"],[0.8888888888888888,\"#fdca26\"],[1.0,\"#f0f921\"]]}],\"surface\":[{\"type\":\"surface\",\"colorbar\":{\"outlinewidth\":0,\"ticks\":\"\"},\"colorscale\":[[0.0,\"#0d0887\"],[0.1111111111111111,\"#46039f\"],[0.2222222222222222,\"#7201a8\"],[0.3333333333333333,\"#9c179e\"],[0.4444444444444444,\"#bd3786\"],[0.5555555555555556,\"#d8576b\"],[0.6666666666666666,\"#ed7953\"],[0.7777777777777778,\"#fb9f3a\"],[0.8888888888888888,\"#fdca26\"],[1.0,\"#f0f921\"]]}],\"mesh3d\":[{\"type\":\"mesh3d\",\"colorbar\":{\"outlinewidth\":0,\"ticks\":\"\"}}],\"scatter\":[{\"fillpattern\":{\"fillmode\":\"overlay\",\"size\":10,\"solidity\":0.2},\"type\":\"scatter\"}],\"parcoords\":[{\"type\":\"parcoords\",\"line\":{\"colorbar\":{\"outlinewidth\":0,\"ticks\":\"\"}}}],\"scatterpolargl\":[{\"type\":\"scatterpolargl\",\"marker\":{\"colorbar\":{\"outlinewidth\":0,\"ticks\":\"\"}}}],\"bar\":[{\"error_x\":{\"color\":\"#2a3f5f\"},\"error_y\":{\"color\":\"#2a3f5f\"},\"marker\":{\"line\":{\"color\":\"#E5ECF6\",\"width\":0.5},\"pattern\":{\"fillmode\":\"overlay\",\"size\":10,\"solidity\":0.2}},\"type\":\"bar\"}],\"scattergeo\":[{\"type\":\"scattergeo\",\"marker\":{\"colorbar\":{\"outlinewidth\":0,\"ticks\":\"\"}}}],\"scatterpolar\":[{\"type\":\"scatterpolar\",\"marker\":{\"colorbar\":{\"outlinewidth\":0,\"ticks\":\"\"}}}],\"histogram\":[{\"marker\":{\"pattern\":{\"fillmode\":\"overlay\",\"size\":10,\"solidity\":0.2}},\"type\":\"histogram\"}],\"scattergl\":[{\"type\":\"scattergl\",\"marker\":{\"colorbar\":{\"outlinewidth\":0,\"ticks\":\"\"}}}],\"scatter3d\":[{\"type\":\"scatter3d\",\"line\":{\"colorbar\":{\"outlinewidth\":0,\"ticks\":\"\"}},\"marker\":{\"colorbar\":{\"outlinewidth\":0,\"ticks\":\"\"}}}],\"scattermapbox\":[{\"type\":\"scattermapbox\",\"marker\":{\"colorbar\":{\"outlinewidth\":0,\"ticks\":\"\"}}}],\"scatterternary\":[{\"type\":\"scatterternary\",\"marker\":{\"colorbar\":{\"outlinewidth\":0,\"ticks\":\"\"}}}],\"scattercarpet\":[{\"type\":\"scattercarpet\",\"marker\":{\"colorbar\":{\"outlinewidth\":0,\"ticks\":\"\"}}}],\"carpet\":[{\"aaxis\":{\"endlinecolor\":\"#2a3f5f\",\"gridcolor\":\"white\",\"linecolor\":\"white\",\"minorgridcolor\":\"white\",\"startlinecolor\":\"#2a3f5f\"},\"baxis\":{\"endlinecolor\":\"#2a3f5f\",\"gridcolor\":\"white\",\"linecolor\":\"white\",\"minorgridcolor\":\"white\",\"startlinecolor\":\"#2a3f5f\"},\"type\":\"carpet\"}],\"table\":[{\"cells\":{\"fill\":{\"color\":\"#EBF0F8\"},\"line\":{\"color\":\"white\"}},\"header\":{\"fill\":{\"color\":\"#C8D4E3\"},\"line\":{\"color\":\"white\"}},\"type\":\"table\"}],\"barpolar\":[{\"marker\":{\"line\":{\"color\":\"#E5ECF6\",\"width\":0.5},\"pattern\":{\"fillmode\":\"overlay\",\"size\":10,\"solidity\":0.2}},\"type\":\"barpolar\"}],\"pie\":[{\"automargin\":true,\"type\":\"pie\"}]},\"layout\":{\"autotypenumbers\":\"strict\",\"colorway\":[\"#636efa\",\"#EF553B\",\"#00cc96\",\"#ab63fa\",\"#FFA15A\",\"#19d3f3\",\"#FF6692\",\"#B6E880\",\"#FF97FF\",\"#FECB52\"],\"font\":{\"color\":\"#2a3f5f\"},\"hovermode\":\"closest\",\"hoverlabel\":{\"align\":\"left\"},\"paper_bgcolor\":\"white\",\"plot_bgcolor\":\"#E5ECF6\",\"polar\":{\"bgcolor\":\"#E5ECF6\",\"angularaxis\":{\"gridcolor\":\"white\",\"linecolor\":\"white\",\"ticks\":\"\"},\"radialaxis\":{\"gridcolor\":\"white\",\"linecolor\":\"white\",\"ticks\":\"\"}},\"ternary\":{\"bgcolor\":\"#E5ECF6\",\"aaxis\":{\"gridcolor\":\"white\",\"linecolor\":\"white\",\"ticks\":\"\"},\"baxis\":{\"gridcolor\":\"white\",\"linecolor\":\"white\",\"ticks\":\"\"},\"caxis\":{\"gridcolor\":\"white\",\"linecolor\":\"white\",\"ticks\":\"\"}},\"coloraxis\":{\"colorbar\":{\"outlinewidth\":0,\"ticks\":\"\"}},\"colorscale\":{\"sequential\":[[0.0,\"#0d0887\"],[0.1111111111111111,\"#46039f\"],[0.2222222222222222,\"#7201a8\"],[0.3333333333333333,\"#9c179e\"],[0.4444444444444444,\"#bd3786\"],[0.5555555555555556,\"#d8576b\"],[0.6666666666666666,\"#ed7953\"],[0.7777777777777778,\"#fb9f3a\"],[0.8888888888888888,\"#fdca26\"],[1.0,\"#f0f921\"]],\"sequentialminus\":[[0.0,\"#0d0887\"],[0.1111111111111111,\"#46039f\"],[0.2222222222222222,\"#7201a8\"],[0.3333333333333333,\"#9c179e\"],[0.4444444444444444,\"#bd3786\"],[0.5555555555555556,\"#d8576b\"],[0.6666666666666666,\"#ed7953\"],[0.7777777777777778,\"#fb9f3a\"],[0.8888888888888888,\"#fdca26\"],[1.0,\"#f0f921\"]],\"diverging\":[[0,\"#8e0152\"],[0.1,\"#c51b7d\"],[0.2,\"#de77ae\"],[0.3,\"#f1b6da\"],[0.4,\"#fde0ef\"],[0.5,\"#f7f7f7\"],[0.6,\"#e6f5d0\"],[0.7,\"#b8e186\"],[0.8,\"#7fbc41\"],[0.9,\"#4d9221\"],[1,\"#276419\"]]},\"xaxis\":{\"gridcolor\":\"white\",\"linecolor\":\"white\",\"ticks\":\"\",\"title\":{\"standoff\":15},\"zerolinecolor\":\"white\",\"automargin\":true,\"zerolinewidth\":2},\"yaxis\":{\"gridcolor\":\"white\",\"linecolor\":\"white\",\"ticks\":\"\",\"title\":{\"standoff\":15},\"zerolinecolor\":\"white\",\"automargin\":true,\"zerolinewidth\":2},\"scene\":{\"xaxis\":{\"backgroundcolor\":\"#E5ECF6\",\"gridcolor\":\"white\",\"linecolor\":\"white\",\"showbackground\":true,\"ticks\":\"\",\"zerolinecolor\":\"white\",\"gridwidth\":2},\"yaxis\":{\"backgroundcolor\":\"#E5ECF6\",\"gridcolor\":\"white\",\"linecolor\":\"white\",\"showbackground\":true,\"ticks\":\"\",\"zerolinecolor\":\"white\",\"gridwidth\":2},\"zaxis\":{\"backgroundcolor\":\"#E5ECF6\",\"gridcolor\":\"white\",\"linecolor\":\"white\",\"showbackground\":true,\"ticks\":\"\",\"zerolinecolor\":\"white\",\"gridwidth\":2}},\"shapedefaults\":{\"line\":{\"color\":\"#2a3f5f\"}},\"annotationdefaults\":{\"arrowcolor\":\"#2a3f5f\",\"arrowhead\":0,\"arrowwidth\":1},\"geo\":{\"bgcolor\":\"white\",\"landcolor\":\"#E5ECF6\",\"subunitcolor\":\"white\",\"showland\":true,\"showlakes\":true,\"lakecolor\":\"white\"},\"title\":{\"x\":0.05},\"mapbox\":{\"style\":\"light\"}}},\"autosize\":false},                        {\"responsive\": true}                    ).then(function(){\n",
              "                            \n",
              "var gd = document.getElementById('a9242f30-b2af-47bf-aeaf-ed5b79695502');\n",
              "var x = new MutationObserver(function (mutations, observer) {{\n",
              "        var display = window.getComputedStyle(gd).display;\n",
              "        if (!display || display === 'none') {{\n",
              "            console.log([gd, 'removed!']);\n",
              "            Plotly.purge(gd);\n",
              "            observer.disconnect();\n",
              "        }}\n",
              "}});\n",
              "\n",
              "// Listen for the removal of the full notebook cells\n",
              "var notebookContainer = gd.closest('#notebook-container');\n",
              "if (notebookContainer) {{\n",
              "    x.observe(notebookContainer, {childList: true});\n",
              "}}\n",
              "\n",
              "// Listen for the clearing of the current output cell\n",
              "var outputEl = gd.closest('.output');\n",
              "if (outputEl) {{\n",
              "    x.observe(outputEl, {childList: true});\n",
              "}}\n",
              "\n",
              "                        })                };                            </script>        </div>\n",
              "</body>\n",
              "</html>"
            ]
          },
          "metadata": {}
        },
        {
          "output_type": "stream",
          "name": "stdout",
          "text": [
            "Wrote  tortoise-table.jpg\n"
          ]
        }
      ],
      "source": [
        "# Enter the table values:\n",
        "column_labels = [\"x (hours)\", \"y (miles)\"]\n",
        "time_values     = [0,  3,  5,  8,      -1] # <- Change -1 to correct value.\n",
        "distance_values = [0, -1,  6,  9.6,  14.4] # <- Change -1 to correct value.\n",
        "data_values = [time_values, distance_values]\n",
        "\n",
        "# Create the table:\n",
        "Tortoise = table(x=time_values, y=distance_values, column_labels=column_labels)\n",
        "\n",
        "# Plot the table\n",
        "Tortoise.plotTable()\n",
        "\n",
        "# Save the image for the table\n",
        "Tortoise.saveImage(\"tortoise-table.jpg\") # <- Find this image"
      ]
    },
    {
      "cell_type": "code",
      "execution_count": 5,
      "metadata": {
        "id": "aBOO9G-_VY1j",
        "colab": {
          "base_uri": "https://localhost:8080/",
          "height": 560
        },
        "outputId": "9cef794e-15a3-454c-997a-5c65284bc2eb"
      },
      "outputs": [
        {
          "output_type": "display_data",
          "data": {
            "text/html": [
              "<html>\n",
              "<head><meta charset=\"utf-8\" /></head>\n",
              "<body>\n",
              "    <div>            <script src=\"https://cdnjs.cloudflare.com/ajax/libs/mathjax/2.7.5/MathJax.js?config=TeX-AMS-MML_SVG\"></script><script type=\"text/javascript\">if (window.MathJax && window.MathJax.Hub && window.MathJax.Hub.Config) {window.MathJax.Hub.Config({SVG: {font: \"STIX-Web\"}});}</script>                <script type=\"text/javascript\">window.PlotlyConfig = {MathJaxConfig: 'local'};</script>\n",
              "        <script charset=\"utf-8\" src=\"https://cdn.plot.ly/plotly-2.35.2.min.js\"></script>                <div id=\"d007cf90-a8ef-4970-806c-1a49592d7301\" class=\"plotly-graph-div\" style=\"height:525px; width:100%;\"></div>            <script type=\"text/javascript\">                                    window.PLOTLYENV=window.PLOTLYENV || {};                                    if (document.getElementById(\"d007cf90-a8ef-4970-806c-1a49592d7301\")) {                    Plotly.newPlot(                        \"d007cf90-a8ef-4970-806c-1a49592d7301\",                        [{\"cells\":{\"format\":[\".5f\",\".5f\"],\"values\":[[0,-1,3,5,6],[0,6.2,18.6,31,-1]]},\"header\":{\"values\":[\"x (hours)\",\"y (miles)\"]},\"type\":\"table\"}],                        {\"template\":{\"data\":{\"histogram2dcontour\":[{\"type\":\"histogram2dcontour\",\"colorbar\":{\"outlinewidth\":0,\"ticks\":\"\"},\"colorscale\":[[0.0,\"#0d0887\"],[0.1111111111111111,\"#46039f\"],[0.2222222222222222,\"#7201a8\"],[0.3333333333333333,\"#9c179e\"],[0.4444444444444444,\"#bd3786\"],[0.5555555555555556,\"#d8576b\"],[0.6666666666666666,\"#ed7953\"],[0.7777777777777778,\"#fb9f3a\"],[0.8888888888888888,\"#fdca26\"],[1.0,\"#f0f921\"]]}],\"choropleth\":[{\"type\":\"choropleth\",\"colorbar\":{\"outlinewidth\":0,\"ticks\":\"\"}}],\"histogram2d\":[{\"type\":\"histogram2d\",\"colorbar\":{\"outlinewidth\":0,\"ticks\":\"\"},\"colorscale\":[[0.0,\"#0d0887\"],[0.1111111111111111,\"#46039f\"],[0.2222222222222222,\"#7201a8\"],[0.3333333333333333,\"#9c179e\"],[0.4444444444444444,\"#bd3786\"],[0.5555555555555556,\"#d8576b\"],[0.6666666666666666,\"#ed7953\"],[0.7777777777777778,\"#fb9f3a\"],[0.8888888888888888,\"#fdca26\"],[1.0,\"#f0f921\"]]}],\"heatmap\":[{\"type\":\"heatmap\",\"colorbar\":{\"outlinewidth\":0,\"ticks\":\"\"},\"colorscale\":[[0.0,\"#0d0887\"],[0.1111111111111111,\"#46039f\"],[0.2222222222222222,\"#7201a8\"],[0.3333333333333333,\"#9c179e\"],[0.4444444444444444,\"#bd3786\"],[0.5555555555555556,\"#d8576b\"],[0.6666666666666666,\"#ed7953\"],[0.7777777777777778,\"#fb9f3a\"],[0.8888888888888888,\"#fdca26\"],[1.0,\"#f0f921\"]]}],\"heatmapgl\":[{\"type\":\"heatmapgl\",\"colorbar\":{\"outlinewidth\":0,\"ticks\":\"\"},\"colorscale\":[[0.0,\"#0d0887\"],[0.1111111111111111,\"#46039f\"],[0.2222222222222222,\"#7201a8\"],[0.3333333333333333,\"#9c179e\"],[0.4444444444444444,\"#bd3786\"],[0.5555555555555556,\"#d8576b\"],[0.6666666666666666,\"#ed7953\"],[0.7777777777777778,\"#fb9f3a\"],[0.8888888888888888,\"#fdca26\"],[1.0,\"#f0f921\"]]}],\"contourcarpet\":[{\"type\":\"contourcarpet\",\"colorbar\":{\"outlinewidth\":0,\"ticks\":\"\"}}],\"contour\":[{\"type\":\"contour\",\"colorbar\":{\"outlinewidth\":0,\"ticks\":\"\"},\"colorscale\":[[0.0,\"#0d0887\"],[0.1111111111111111,\"#46039f\"],[0.2222222222222222,\"#7201a8\"],[0.3333333333333333,\"#9c179e\"],[0.4444444444444444,\"#bd3786\"],[0.5555555555555556,\"#d8576b\"],[0.6666666666666666,\"#ed7953\"],[0.7777777777777778,\"#fb9f3a\"],[0.8888888888888888,\"#fdca26\"],[1.0,\"#f0f921\"]]}],\"surface\":[{\"type\":\"surface\",\"colorbar\":{\"outlinewidth\":0,\"ticks\":\"\"},\"colorscale\":[[0.0,\"#0d0887\"],[0.1111111111111111,\"#46039f\"],[0.2222222222222222,\"#7201a8\"],[0.3333333333333333,\"#9c179e\"],[0.4444444444444444,\"#bd3786\"],[0.5555555555555556,\"#d8576b\"],[0.6666666666666666,\"#ed7953\"],[0.7777777777777778,\"#fb9f3a\"],[0.8888888888888888,\"#fdca26\"],[1.0,\"#f0f921\"]]}],\"mesh3d\":[{\"type\":\"mesh3d\",\"colorbar\":{\"outlinewidth\":0,\"ticks\":\"\"}}],\"scatter\":[{\"fillpattern\":{\"fillmode\":\"overlay\",\"size\":10,\"solidity\":0.2},\"type\":\"scatter\"}],\"parcoords\":[{\"type\":\"parcoords\",\"line\":{\"colorbar\":{\"outlinewidth\":0,\"ticks\":\"\"}}}],\"scatterpolargl\":[{\"type\":\"scatterpolargl\",\"marker\":{\"colorbar\":{\"outlinewidth\":0,\"ticks\":\"\"}}}],\"bar\":[{\"error_x\":{\"color\":\"#2a3f5f\"},\"error_y\":{\"color\":\"#2a3f5f\"},\"marker\":{\"line\":{\"color\":\"#E5ECF6\",\"width\":0.5},\"pattern\":{\"fillmode\":\"overlay\",\"size\":10,\"solidity\":0.2}},\"type\":\"bar\"}],\"scattergeo\":[{\"type\":\"scattergeo\",\"marker\":{\"colorbar\":{\"outlinewidth\":0,\"ticks\":\"\"}}}],\"scatterpolar\":[{\"type\":\"scatterpolar\",\"marker\":{\"colorbar\":{\"outlinewidth\":0,\"ticks\":\"\"}}}],\"histogram\":[{\"marker\":{\"pattern\":{\"fillmode\":\"overlay\",\"size\":10,\"solidity\":0.2}},\"type\":\"histogram\"}],\"scattergl\":[{\"type\":\"scattergl\",\"marker\":{\"colorbar\":{\"outlinewidth\":0,\"ticks\":\"\"}}}],\"scatter3d\":[{\"type\":\"scatter3d\",\"line\":{\"colorbar\":{\"outlinewidth\":0,\"ticks\":\"\"}},\"marker\":{\"colorbar\":{\"outlinewidth\":0,\"ticks\":\"\"}}}],\"scattermapbox\":[{\"type\":\"scattermapbox\",\"marker\":{\"colorbar\":{\"outlinewidth\":0,\"ticks\":\"\"}}}],\"scatterternary\":[{\"type\":\"scatterternary\",\"marker\":{\"colorbar\":{\"outlinewidth\":0,\"ticks\":\"\"}}}],\"scattercarpet\":[{\"type\":\"scattercarpet\",\"marker\":{\"colorbar\":{\"outlinewidth\":0,\"ticks\":\"\"}}}],\"carpet\":[{\"aaxis\":{\"endlinecolor\":\"#2a3f5f\",\"gridcolor\":\"white\",\"linecolor\":\"white\",\"minorgridcolor\":\"white\",\"startlinecolor\":\"#2a3f5f\"},\"baxis\":{\"endlinecolor\":\"#2a3f5f\",\"gridcolor\":\"white\",\"linecolor\":\"white\",\"minorgridcolor\":\"white\",\"startlinecolor\":\"#2a3f5f\"},\"type\":\"carpet\"}],\"table\":[{\"cells\":{\"fill\":{\"color\":\"#EBF0F8\"},\"line\":{\"color\":\"white\"}},\"header\":{\"fill\":{\"color\":\"#C8D4E3\"},\"line\":{\"color\":\"white\"}},\"type\":\"table\"}],\"barpolar\":[{\"marker\":{\"line\":{\"color\":\"#E5ECF6\",\"width\":0.5},\"pattern\":{\"fillmode\":\"overlay\",\"size\":10,\"solidity\":0.2}},\"type\":\"barpolar\"}],\"pie\":[{\"automargin\":true,\"type\":\"pie\"}]},\"layout\":{\"autotypenumbers\":\"strict\",\"colorway\":[\"#636efa\",\"#EF553B\",\"#00cc96\",\"#ab63fa\",\"#FFA15A\",\"#19d3f3\",\"#FF6692\",\"#B6E880\",\"#FF97FF\",\"#FECB52\"],\"font\":{\"color\":\"#2a3f5f\"},\"hovermode\":\"closest\",\"hoverlabel\":{\"align\":\"left\"},\"paper_bgcolor\":\"white\",\"plot_bgcolor\":\"#E5ECF6\",\"polar\":{\"bgcolor\":\"#E5ECF6\",\"angularaxis\":{\"gridcolor\":\"white\",\"linecolor\":\"white\",\"ticks\":\"\"},\"radialaxis\":{\"gridcolor\":\"white\",\"linecolor\":\"white\",\"ticks\":\"\"}},\"ternary\":{\"bgcolor\":\"#E5ECF6\",\"aaxis\":{\"gridcolor\":\"white\",\"linecolor\":\"white\",\"ticks\":\"\"},\"baxis\":{\"gridcolor\":\"white\",\"linecolor\":\"white\",\"ticks\":\"\"},\"caxis\":{\"gridcolor\":\"white\",\"linecolor\":\"white\",\"ticks\":\"\"}},\"coloraxis\":{\"colorbar\":{\"outlinewidth\":0,\"ticks\":\"\"}},\"colorscale\":{\"sequential\":[[0.0,\"#0d0887\"],[0.1111111111111111,\"#46039f\"],[0.2222222222222222,\"#7201a8\"],[0.3333333333333333,\"#9c179e\"],[0.4444444444444444,\"#bd3786\"],[0.5555555555555556,\"#d8576b\"],[0.6666666666666666,\"#ed7953\"],[0.7777777777777778,\"#fb9f3a\"],[0.8888888888888888,\"#fdca26\"],[1.0,\"#f0f921\"]],\"sequentialminus\":[[0.0,\"#0d0887\"],[0.1111111111111111,\"#46039f\"],[0.2222222222222222,\"#7201a8\"],[0.3333333333333333,\"#9c179e\"],[0.4444444444444444,\"#bd3786\"],[0.5555555555555556,\"#d8576b\"],[0.6666666666666666,\"#ed7953\"],[0.7777777777777778,\"#fb9f3a\"],[0.8888888888888888,\"#fdca26\"],[1.0,\"#f0f921\"]],\"diverging\":[[0,\"#8e0152\"],[0.1,\"#c51b7d\"],[0.2,\"#de77ae\"],[0.3,\"#f1b6da\"],[0.4,\"#fde0ef\"],[0.5,\"#f7f7f7\"],[0.6,\"#e6f5d0\"],[0.7,\"#b8e186\"],[0.8,\"#7fbc41\"],[0.9,\"#4d9221\"],[1,\"#276419\"]]},\"xaxis\":{\"gridcolor\":\"white\",\"linecolor\":\"white\",\"ticks\":\"\",\"title\":{\"standoff\":15},\"zerolinecolor\":\"white\",\"automargin\":true,\"zerolinewidth\":2},\"yaxis\":{\"gridcolor\":\"white\",\"linecolor\":\"white\",\"ticks\":\"\",\"title\":{\"standoff\":15},\"zerolinecolor\":\"white\",\"automargin\":true,\"zerolinewidth\":2},\"scene\":{\"xaxis\":{\"backgroundcolor\":\"#E5ECF6\",\"gridcolor\":\"white\",\"linecolor\":\"white\",\"showbackground\":true,\"ticks\":\"\",\"zerolinecolor\":\"white\",\"gridwidth\":2},\"yaxis\":{\"backgroundcolor\":\"#E5ECF6\",\"gridcolor\":\"white\",\"linecolor\":\"white\",\"showbackground\":true,\"ticks\":\"\",\"zerolinecolor\":\"white\",\"gridwidth\":2},\"zaxis\":{\"backgroundcolor\":\"#E5ECF6\",\"gridcolor\":\"white\",\"linecolor\":\"white\",\"showbackground\":true,\"ticks\":\"\",\"zerolinecolor\":\"white\",\"gridwidth\":2}},\"shapedefaults\":{\"line\":{\"color\":\"#2a3f5f\"}},\"annotationdefaults\":{\"arrowcolor\":\"#2a3f5f\",\"arrowhead\":0,\"arrowwidth\":1},\"geo\":{\"bgcolor\":\"white\",\"landcolor\":\"#E5ECF6\",\"subunitcolor\":\"white\",\"showland\":true,\"showlakes\":true,\"lakecolor\":\"white\"},\"title\":{\"x\":0.05},\"mapbox\":{\"style\":\"light\"}}},\"autosize\":false},                        {\"responsive\": true}                    ).then(function(){\n",
              "                            \n",
              "var gd = document.getElementById('d007cf90-a8ef-4970-806c-1a49592d7301');\n",
              "var x = new MutationObserver(function (mutations, observer) {{\n",
              "        var display = window.getComputedStyle(gd).display;\n",
              "        if (!display || display === 'none') {{\n",
              "            console.log([gd, 'removed!']);\n",
              "            Plotly.purge(gd);\n",
              "            observer.disconnect();\n",
              "        }}\n",
              "}});\n",
              "\n",
              "// Listen for the removal of the full notebook cells\n",
              "var notebookContainer = gd.closest('#notebook-container');\n",
              "if (notebookContainer) {{\n",
              "    x.observe(notebookContainer, {childList: true});\n",
              "}}\n",
              "\n",
              "// Listen for the clearing of the current output cell\n",
              "var outputEl = gd.closest('.output');\n",
              "if (outputEl) {{\n",
              "    x.observe(outputEl, {childList: true});\n",
              "}}\n",
              "\n",
              "                        })                };                            </script>        </div>\n",
              "</body>\n",
              "</html>"
            ]
          },
          "metadata": {}
        },
        {
          "output_type": "stream",
          "name": "stdout",
          "text": [
            "Wrote  koala-table.jpg\n"
          ]
        }
      ],
      "source": [
        "# Enter the table values:\n",
        "column_labels = [\"x (hours)\", \"y (miles)\"]\n",
        "time_values     = [0, -1,  3,    5,   6] # Change -1 to the correct value.\n",
        "distance_values = [0, 6.2, 18.6, 31, -1] # Change -1 to the correct value.\n",
        "data_values = [time_values, distance_values]\n",
        "\n",
        "# Create the table:\n",
        "Koala = table(x=time_values, y=distance_values, column_labels=column_labels)\n",
        "\n",
        "# Plot the table\n",
        "Koala.plotTable()\n",
        "\n",
        "# Save the image for the table\n",
        "Koala.saveImage(\"koala-table.jpg\") # <- Find this image."
      ]
    },
    {
      "cell_type": "markdown",
      "metadata": {
        "id": "7UOAvloAlPE-"
      },
      "source": [
        "# Enter the equations\n",
        "## Assignment: Enter the equations and plot the graph\n",
        "1. Discuss the code within your group.\n",
        "2. Correct the equations <tt>y=?*x</tt> for each animal.\n",
        "3. Move your cursor over points in the graph. Where do these points come from?\n",
        "4. Discuss the slope of each line. How do they correspond to the equations?\n",
        "\n",
        "## Modify or add to your answers:\n",
        "1) Who is going the fastest? How can you tell from the equations?</br>\n",
        "2) Who is going the slowest? How can you tell from the graphs?</br>\n",
        "3) How do the tables help support these answers? </br>\n"
      ]
    },
    {
      "cell_type": "code",
      "execution_count": null,
      "metadata": {
        "id": "NKMurvaMlPE_",
        "colab": {
          "base_uri": "https://localhost:8080/"
        },
        "outputId": "0eb3ba8a-3f19-4935-8e74-455b069dc0ac"
      },
      "outputs": [
        {
          "output_type": "display_data",
          "data": {
            "text/html": [
              "<html>\n",
              "<head><meta charset=\"utf-8\" /></head>\n",
              "<body>\n",
              "    <div>            <script src=\"https://cdnjs.cloudflare.com/ajax/libs/mathjax/2.7.5/MathJax.js?config=TeX-AMS-MML_SVG\"></script><script type=\"text/javascript\">if (window.MathJax && window.MathJax.Hub && window.MathJax.Hub.Config) {window.MathJax.Hub.Config({SVG: {font: \"STIX-Web\"}});}</script>                <script type=\"text/javascript\">window.PlotlyConfig = {MathJaxConfig: 'local'};</script>\n",
              "        <script charset=\"utf-8\" src=\"https://cdn.plot.ly/plotly-2.35.2.min.js\"></script>                <div id=\"99cbb96a-19c4-427a-88b0-8d9ca272ffea\" class=\"plotly-graph-div\" style=\"height:525px; width:100%;\"></div>            <script type=\"text/javascript\">                                    window.PLOTLYENV=window.PLOTLYENV || {};                                    if (document.getElementById(\"99cbb96a-19c4-427a-88b0-8d9ca272ffea\")) {                    Plotly.newPlot(                        \"99cbb96a-19c4-427a-88b0-8d9ca272ffea\",                        [{\"line\":{\"width\":3},\"marker\":{\"line\":{\"width\":2},\"size\":10},\"mode\":\"lines+markers\",\"name\":\"Elephant: y = ?*x\",\"x\":[0,3,5,6,-1],\"y\":[0,18,-1,36,60],\"type\":\"scatter\"},{\"line\":{\"width\":3},\"marker\":{\"line\":{\"width\":2},\"size\":10},\"mode\":\"lines+markers\",\"name\":\"Squirrel: y = ?*x\",\"x\":[0,1,3,4,-1],\"y\":[0,11,33,-1,88],\"type\":\"scatter\"},{\"line\":{\"width\":3},\"marker\":{\"line\":{\"width\":2},\"size\":10},\"mode\":\"lines+markers\",\"name\":\"Tortoise: y = ?*x\",\"x\":[0,3,5,8,-1],\"y\":[0,-1,6,9.6,14.4],\"type\":\"scatter\"},{\"line\":{\"width\":3},\"marker\":{\"line\":{\"width\":2},\"size\":10},\"mode\":\"lines+markers\",\"name\":\"Koala:    y = ?*x\",\"x\":[0,-1,3,5,6],\"y\":[0,6.2,18.6,31,-1],\"type\":\"scatter\"}],                        {\"template\":{\"data\":{\"histogram2dcontour\":[{\"type\":\"histogram2dcontour\",\"colorbar\":{\"outlinewidth\":0,\"ticks\":\"\"},\"colorscale\":[[0.0,\"#0d0887\"],[0.1111111111111111,\"#46039f\"],[0.2222222222222222,\"#7201a8\"],[0.3333333333333333,\"#9c179e\"],[0.4444444444444444,\"#bd3786\"],[0.5555555555555556,\"#d8576b\"],[0.6666666666666666,\"#ed7953\"],[0.7777777777777778,\"#fb9f3a\"],[0.8888888888888888,\"#fdca26\"],[1.0,\"#f0f921\"]]}],\"choropleth\":[{\"type\":\"choropleth\",\"colorbar\":{\"outlinewidth\":0,\"ticks\":\"\"}}],\"histogram2d\":[{\"type\":\"histogram2d\",\"colorbar\":{\"outlinewidth\":0,\"ticks\":\"\"},\"colorscale\":[[0.0,\"#0d0887\"],[0.1111111111111111,\"#46039f\"],[0.2222222222222222,\"#7201a8\"],[0.3333333333333333,\"#9c179e\"],[0.4444444444444444,\"#bd3786\"],[0.5555555555555556,\"#d8576b\"],[0.6666666666666666,\"#ed7953\"],[0.7777777777777778,\"#fb9f3a\"],[0.8888888888888888,\"#fdca26\"],[1.0,\"#f0f921\"]]}],\"heatmap\":[{\"type\":\"heatmap\",\"colorbar\":{\"outlinewidth\":0,\"ticks\":\"\"},\"colorscale\":[[0.0,\"#0d0887\"],[0.1111111111111111,\"#46039f\"],[0.2222222222222222,\"#7201a8\"],[0.3333333333333333,\"#9c179e\"],[0.4444444444444444,\"#bd3786\"],[0.5555555555555556,\"#d8576b\"],[0.6666666666666666,\"#ed7953\"],[0.7777777777777778,\"#fb9f3a\"],[0.8888888888888888,\"#fdca26\"],[1.0,\"#f0f921\"]]}],\"heatmapgl\":[{\"type\":\"heatmapgl\",\"colorbar\":{\"outlinewidth\":0,\"ticks\":\"\"},\"colorscale\":[[0.0,\"#0d0887\"],[0.1111111111111111,\"#46039f\"],[0.2222222222222222,\"#7201a8\"],[0.3333333333333333,\"#9c179e\"],[0.4444444444444444,\"#bd3786\"],[0.5555555555555556,\"#d8576b\"],[0.6666666666666666,\"#ed7953\"],[0.7777777777777778,\"#fb9f3a\"],[0.8888888888888888,\"#fdca26\"],[1.0,\"#f0f921\"]]}],\"contourcarpet\":[{\"type\":\"contourcarpet\",\"colorbar\":{\"outlinewidth\":0,\"ticks\":\"\"}}],\"contour\":[{\"type\":\"contour\",\"colorbar\":{\"outlinewidth\":0,\"ticks\":\"\"},\"colorscale\":[[0.0,\"#0d0887\"],[0.1111111111111111,\"#46039f\"],[0.2222222222222222,\"#7201a8\"],[0.3333333333333333,\"#9c179e\"],[0.4444444444444444,\"#bd3786\"],[0.5555555555555556,\"#d8576b\"],[0.6666666666666666,\"#ed7953\"],[0.7777777777777778,\"#fb9f3a\"],[0.8888888888888888,\"#fdca26\"],[1.0,\"#f0f921\"]]}],\"surface\":[{\"type\":\"surface\",\"colorbar\":{\"outlinewidth\":0,\"ticks\":\"\"},\"colorscale\":[[0.0,\"#0d0887\"],[0.1111111111111111,\"#46039f\"],[0.2222222222222222,\"#7201a8\"],[0.3333333333333333,\"#9c179e\"],[0.4444444444444444,\"#bd3786\"],[0.5555555555555556,\"#d8576b\"],[0.6666666666666666,\"#ed7953\"],[0.7777777777777778,\"#fb9f3a\"],[0.8888888888888888,\"#fdca26\"],[1.0,\"#f0f921\"]]}],\"mesh3d\":[{\"type\":\"mesh3d\",\"colorbar\":{\"outlinewidth\":0,\"ticks\":\"\"}}],\"scatter\":[{\"fillpattern\":{\"fillmode\":\"overlay\",\"size\":10,\"solidity\":0.2},\"type\":\"scatter\"}],\"parcoords\":[{\"type\":\"parcoords\",\"line\":{\"colorbar\":{\"outlinewidth\":0,\"ticks\":\"\"}}}],\"scatterpolargl\":[{\"type\":\"scatterpolargl\",\"marker\":{\"colorbar\":{\"outlinewidth\":0,\"ticks\":\"\"}}}],\"bar\":[{\"error_x\":{\"color\":\"#2a3f5f\"},\"error_y\":{\"color\":\"#2a3f5f\"},\"marker\":{\"line\":{\"color\":\"#E5ECF6\",\"width\":0.5},\"pattern\":{\"fillmode\":\"overlay\",\"size\":10,\"solidity\":0.2}},\"type\":\"bar\"}],\"scattergeo\":[{\"type\":\"scattergeo\",\"marker\":{\"colorbar\":{\"outlinewidth\":0,\"ticks\":\"\"}}}],\"scatterpolar\":[{\"type\":\"scatterpolar\",\"marker\":{\"colorbar\":{\"outlinewidth\":0,\"ticks\":\"\"}}}],\"histogram\":[{\"marker\":{\"pattern\":{\"fillmode\":\"overlay\",\"size\":10,\"solidity\":0.2}},\"type\":\"histogram\"}],\"scattergl\":[{\"type\":\"scattergl\",\"marker\":{\"colorbar\":{\"outlinewidth\":0,\"ticks\":\"\"}}}],\"scatter3d\":[{\"type\":\"scatter3d\",\"line\":{\"colorbar\":{\"outlinewidth\":0,\"ticks\":\"\"}},\"marker\":{\"colorbar\":{\"outlinewidth\":0,\"ticks\":\"\"}}}],\"scattermapbox\":[{\"type\":\"scattermapbox\",\"marker\":{\"colorbar\":{\"outlinewidth\":0,\"ticks\":\"\"}}}],\"scatterternary\":[{\"type\":\"scatterternary\",\"marker\":{\"colorbar\":{\"outlinewidth\":0,\"ticks\":\"\"}}}],\"scattercarpet\":[{\"type\":\"scattercarpet\",\"marker\":{\"colorbar\":{\"outlinewidth\":0,\"ticks\":\"\"}}}],\"carpet\":[{\"aaxis\":{\"endlinecolor\":\"#2a3f5f\",\"gridcolor\":\"white\",\"linecolor\":\"white\",\"minorgridcolor\":\"white\",\"startlinecolor\":\"#2a3f5f\"},\"baxis\":{\"endlinecolor\":\"#2a3f5f\",\"gridcolor\":\"white\",\"linecolor\":\"white\",\"minorgridcolor\":\"white\",\"startlinecolor\":\"#2a3f5f\"},\"type\":\"carpet\"}],\"table\":[{\"cells\":{\"fill\":{\"color\":\"#EBF0F8\"},\"line\":{\"color\":\"white\"}},\"header\":{\"fill\":{\"color\":\"#C8D4E3\"},\"line\":{\"color\":\"white\"}},\"type\":\"table\"}],\"barpolar\":[{\"marker\":{\"line\":{\"color\":\"#E5ECF6\",\"width\":0.5},\"pattern\":{\"fillmode\":\"overlay\",\"size\":10,\"solidity\":0.2}},\"type\":\"barpolar\"}],\"pie\":[{\"automargin\":true,\"type\":\"pie\"}]},\"layout\":{\"autotypenumbers\":\"strict\",\"colorway\":[\"#636efa\",\"#EF553B\",\"#00cc96\",\"#ab63fa\",\"#FFA15A\",\"#19d3f3\",\"#FF6692\",\"#B6E880\",\"#FF97FF\",\"#FECB52\"],\"font\":{\"color\":\"#2a3f5f\"},\"hovermode\":\"closest\",\"hoverlabel\":{\"align\":\"left\"},\"paper_bgcolor\":\"white\",\"plot_bgcolor\":\"#E5ECF6\",\"polar\":{\"bgcolor\":\"#E5ECF6\",\"angularaxis\":{\"gridcolor\":\"white\",\"linecolor\":\"white\",\"ticks\":\"\"},\"radialaxis\":{\"gridcolor\":\"white\",\"linecolor\":\"white\",\"ticks\":\"\"}},\"ternary\":{\"bgcolor\":\"#E5ECF6\",\"aaxis\":{\"gridcolor\":\"white\",\"linecolor\":\"white\",\"ticks\":\"\"},\"baxis\":{\"gridcolor\":\"white\",\"linecolor\":\"white\",\"ticks\":\"\"},\"caxis\":{\"gridcolor\":\"white\",\"linecolor\":\"white\",\"ticks\":\"\"}},\"coloraxis\":{\"colorbar\":{\"outlinewidth\":0,\"ticks\":\"\"}},\"colorscale\":{\"sequential\":[[0.0,\"#0d0887\"],[0.1111111111111111,\"#46039f\"],[0.2222222222222222,\"#7201a8\"],[0.3333333333333333,\"#9c179e\"],[0.4444444444444444,\"#bd3786\"],[0.5555555555555556,\"#d8576b\"],[0.6666666666666666,\"#ed7953\"],[0.7777777777777778,\"#fb9f3a\"],[0.8888888888888888,\"#fdca26\"],[1.0,\"#f0f921\"]],\"sequentialminus\":[[0.0,\"#0d0887\"],[0.1111111111111111,\"#46039f\"],[0.2222222222222222,\"#7201a8\"],[0.3333333333333333,\"#9c179e\"],[0.4444444444444444,\"#bd3786\"],[0.5555555555555556,\"#d8576b\"],[0.6666666666666666,\"#ed7953\"],[0.7777777777777778,\"#fb9f3a\"],[0.8888888888888888,\"#fdca26\"],[1.0,\"#f0f921\"]],\"diverging\":[[0,\"#8e0152\"],[0.1,\"#c51b7d\"],[0.2,\"#de77ae\"],[0.3,\"#f1b6da\"],[0.4,\"#fde0ef\"],[0.5,\"#f7f7f7\"],[0.6,\"#e6f5d0\"],[0.7,\"#b8e186\"],[0.8,\"#7fbc41\"],[0.9,\"#4d9221\"],[1,\"#276419\"]]},\"xaxis\":{\"gridcolor\":\"white\",\"linecolor\":\"white\",\"ticks\":\"\",\"title\":{\"standoff\":15},\"zerolinecolor\":\"white\",\"automargin\":true,\"zerolinewidth\":2},\"yaxis\":{\"gridcolor\":\"white\",\"linecolor\":\"white\",\"ticks\":\"\",\"title\":{\"standoff\":15},\"zerolinecolor\":\"white\",\"automargin\":true,\"zerolinewidth\":2},\"scene\":{\"xaxis\":{\"backgroundcolor\":\"#E5ECF6\",\"gridcolor\":\"white\",\"linecolor\":\"white\",\"showbackground\":true,\"ticks\":\"\",\"zerolinecolor\":\"white\",\"gridwidth\":2},\"yaxis\":{\"backgroundcolor\":\"#E5ECF6\",\"gridcolor\":\"white\",\"linecolor\":\"white\",\"showbackground\":true,\"ticks\":\"\",\"zerolinecolor\":\"white\",\"gridwidth\":2},\"zaxis\":{\"backgroundcolor\":\"#E5ECF6\",\"gridcolor\":\"white\",\"linecolor\":\"white\",\"showbackground\":true,\"ticks\":\"\",\"zerolinecolor\":\"white\",\"gridwidth\":2}},\"shapedefaults\":{\"line\":{\"color\":\"#2a3f5f\"}},\"annotationdefaults\":{\"arrowcolor\":\"#2a3f5f\",\"arrowhead\":0,\"arrowwidth\":1},\"geo\":{\"bgcolor\":\"white\",\"landcolor\":\"#E5ECF6\",\"subunitcolor\":\"white\",\"showland\":true,\"showlakes\":true,\"lakecolor\":\"white\"},\"title\":{\"x\":0.05},\"mapbox\":{\"style\":\"light\"}}},\"title\":{\"text\":\"Compare speeds\",\"y\":0.9,\"x\":0.4,\"xanchor\":\"center\",\"yanchor\":\"top\"},\"font\":{\"family\":\"Courier New, monospace\",\"size\":13,\"color\":\"RebeccaPurple\"},\"xaxis\":{\"title\":{\"text\":\"Elapsed time (hours)\"}},\"yaxis\":{\"title\":{\"text\":\"Distance in miles\"}},\"legend\":{\"title\":{\"text\":\"Journey\"}},\"autosize\":false},                        {\"responsive\": true}                    ).then(function(){\n",
              "                            \n",
              "var gd = document.getElementById('99cbb96a-19c4-427a-88b0-8d9ca272ffea');\n",
              "var x = new MutationObserver(function (mutations, observer) {{\n",
              "        var display = window.getComputedStyle(gd).display;\n",
              "        if (!display || display === 'none') {{\n",
              "            console.log([gd, 'removed!']);\n",
              "            Plotly.purge(gd);\n",
              "            observer.disconnect();\n",
              "        }}\n",
              "}});\n",
              "\n",
              "// Listen for the removal of the full notebook cells\n",
              "var notebookContainer = gd.closest('#notebook-container');\n",
              "if (notebookContainer) {{\n",
              "    x.observe(notebookContainer, {childList: true});\n",
              "}}\n",
              "\n",
              "// Listen for the clearing of the current output cell\n",
              "var outputEl = gd.closest('.output');\n",
              "if (outputEl) {{\n",
              "    x.observe(outputEl, {childList: true});\n",
              "}}\n",
              "\n",
              "                        })                };                            </script>        </div>\n",
              "</body>\n",
              "</html>"
            ]
          },
          "metadata": {}
        }
      ],
      "source": [
        "# Merge all of the tables\n",
        "tables_list = [Elephant, Squirrel, Tortoise, Koala]\n",
        "\n",
        "# Line equations of tables\n",
        "legend_labels = [\n",
        "      'Elephant: y = ?*x', # <- Modify the equation here.\n",
        "      'Squirrel: y = ?*x', # <- Modify the equation here.\n",
        "      'Tortoise: y = ?*x', # <- Modify the equation here.\n",
        "      'Koala:    y = ?*x'] # <- Modify the equation here.\n",
        "\n",
        "# Plot tables\n",
        "plotTablesLines(tables_list,\n",
        "                fig_title = 'Compare speeds',        # title on top\n",
        "                x_label = 'Elapsed time (hours)',    # appears along x-axis\n",
        "                y_label = 'Distance in miles',       # appears along y-axis\n",
        "                legend_title = 'Journey',            # title on the right hand side\n",
        "                legend_labels = legend_labels,       # text describing the table\n",
        "                img_name = 'plot.jpg')               # plot image name"
      ]
    },
    {
      "cell_type": "markdown",
      "metadata": {
        "id": "frhpskTUlPE_"
      },
      "source": [
        "# Make videos I: Pick Find character images\n",
        "\n",
        "## Assignment: Find character images\n",
        "1. Click on your Folder icon on the Left Hand Side.\n",
        "2. Click on <tt>drive</tt>.\n",
        "3. Click on <tt>MyDrive</tt>.\n",
        "4. Click on <tt>Race-2025</tt>.\n",
        "5. Click on <tt>GraphSpeeds2-main</tt>.\n",
        "6. Look at the different images.\n",
        "7. Write down the names of the image files that you want to use."
      ]
    },
    {
      "cell_type": "markdown",
      "metadata": {
        "id": "Mxv10Dx7VY1k"
      },
      "source": [
        "# Make videos II: Create tables for your characters"
      ]
    },
    {
      "cell_type": "markdown",
      "metadata": {
        "id": "VcdYCB8-VY1k"
      },
      "source": [
        "## Assignment: Create the tables and equations for your characters\n",
        "1. Enter time and distance units in <tt>column_labels</tt>.\n",
        "2. Enter <tt>time_values</tt> and <tt>distance_values</tt> for each value.\n",
        "3. Enter names and equations for each character."
      ]
    },
    {
      "cell_type": "code",
      "execution_count": null,
      "metadata": {
        "id": "B4FrP6WyVY1k"
      },
      "outputs": [],
      "source": [
        "# Prepare the labels for everyone\n",
        "column_labels = [\"x (seconds)\", \"y (feet)\"] # <- FIX units\n",
        "\n",
        "# Table #1 values:\n",
        "time_values     = [0, 1, 2, 3]  # <- ENTER x values\n",
        "distance_values = [0, 1, 2, 3]  # <- ENTER y values\n",
        "\n",
        "# Create your table:\n",
        "char1 = table(x=time_values, y=distance_values, column_labels=column_labels)\n",
        "char1.plotTable()\n",
        "char1.saveImage(\"char1.png\")\n",
        "\n",
        "\n",
        "\n",
        "# Table #2 values:\n",
        "time_values     = [0, 1, 2, 3]  # <- ENTER x values\n",
        "distance_values = [0, 1, 2, 3]  # <- ENTER y values\n",
        "\n",
        "# Create your table:\n",
        "char2 = table(x=time_values, y=distance_values, column_labels=column_labels)\n",
        "char2.plotTable()\n",
        "char2.saveImage(\"char2.png\")\n",
        "\n",
        "\n",
        "\n",
        "# Table #3 values:\n",
        "time_values     = [0, 1, 2, 3]  # <- ENTER x values\n",
        "distance_values = [0, 1, 2, 3]  # <- ENTER y values\n",
        "\n",
        "# Create your table:\n",
        "char3 = table(x=time_values, y=distance_values, column_labels=column_labels)\n",
        "char3.plotTable()\n",
        "char3.saveImage(\"char3.png\")\n",
        "\n",
        "\n",
        "\n",
        "# Table #4 values:\n",
        "time_values     = [0, 1, 2, 3]  # <- ENTER x values\n",
        "distance_values = [0, 1, 2, 3]  # <- ENTER y values\n",
        "\n",
        "# Create your table:\n",
        "char4 = table(x=time_values, y=distance_values, column_labels=column_labels)\n",
        "char4.plotTable()\n",
        "char4.saveImage(\"char4.png\")\n",
        "\n",
        "\n",
        "# Merge all of the tables\n",
        "tables_list = [char1, char2, char3, char4]\n",
        "\n",
        "# Line equations of tables\n",
        "legend_labels = [\n",
        "      'Name1: y = 1*x', # <- Modify name and the equation here.\n",
        "      'Name2: y = ?*x', # <- Modify name and the equation here.\n",
        "      'Name3: y = ?*x', # <- Modify name and the equation here.\n",
        "      'Name4: y = ?*x'] # <- Modify name and the equation here.\n",
        "\n",
        "# Plot tables\n",
        "plotTablesLines(tables_list,\n",
        "                fig_title = 'The Race',               # title on top\n",
        "                x_label = 'Elapsed time (hours)',    # appears along x-axis\n",
        "                y_label = 'Distance in miles',       # appears along y-axis\n",
        "                legend_title = 'Journey',            # title on the right hand side\n",
        "                legend_labels = legend_labels,       # text describing the table\n",
        "                img_name = 'race.png')               # Saves under race.png."
      ]
    },
    {
      "cell_type": "markdown",
      "metadata": {
        "id": "O3INHPnqeymm"
      },
      "source": [
        "# Make videos III: Specify names, images, and speeds\n",
        "## Assignment: place your characters\n",
        "1. ENTER the names of the characters for your video.\n",
        "2. ENTER filenames for each character in your video.\n",
        "3. ENTER the speeds for your characters."
      ]
    },
    {
      "cell_type": "code",
      "execution_count": null,
      "metadata": {
        "id": "g7-G9Z2ElPFA"
      },
      "outputs": [],
      "source": [
        "# Enter the names of your characters:\n",
        "names  = [\"Elephant\", \"Curious George\", \"Shadow milk\", \"Koala\"]\n",
        "\n",
        "# Enter the file names of your images:\n",
        "images = [\"Elephant.png\", \"Curious-George.jpeg\", \"Shadow_milk_sing.png\", \"Koala.jpeg\"]\n",
        "\n",
        "# Enter the speeds:\n",
        "speeds = [1, 2, 3,  4]\n",
        "\n",
        "\n",
        "# Directory:\n",
        "directory = \"/content/drive/MyDrive/Race-2025/GraphSpeeds2-main/\"\n",
        "images_list = [directory + filename for filename in images]\n",
        "\n",
        "# Save all of the data:\n",
        "data = [names, images_list, speeds]"
      ]
    },
    {
      "cell_type": "markdown",
      "metadata": {
        "id": "C8Yu4OW-_uDG"
      },
      "source": [
        "# Make videos IV: Make and experiment with your video\n",
        "Your video will be stored to the video file <tt>race.mp4</tt> or a filename that you choose.\n",
        "\n",
        "To make a video, one time unit (e.g., one hour) corresponds to one second of video.\n",
        "\n",
        "If you set the <tt>simulation_speed=2.0</tt>, then one second will correspond to two time units (e.g., two hours).\n",
        "\n",
        "For each second, the video contains a number of images. This is controlled by <tt>fps</tt> which means number of frames per second.\n",
        "\n",
        "## Assignment: experiment with your video\n",
        "1. Enter the race distance, duration of the race, and video title.\n",
        "2. Enter the units.\n",
        "3. Change <tt>simulation_speed</tt> to 2.0. What do you observe?\n",
        "4. Change <tt>fps</tt> to 20. What do you observe?\n",
        "5. Save the video to a different file name."
      ]
    },
    {
      "cell_type": "code",
      "execution_count": null,
      "metadata": {
        "id": "Z1FE9p5-_uDG"
      },
      "outputs": [],
      "source": [
        "# Experiment with the video\n",
        "sim_video = simulationVideo(data = data,            # characters\n",
        "                             duration = 10,         # ENTER duration\n",
        "                             race_distance = 10,    # ENTER race distance\n",
        "                             vid_title = \"Race\")    # video title\n",
        "\n",
        "sim_video.set_video(video_name=\"race.mp4\",          # new filename\n",
        "                    fps=10,                         # frames per second\n",
        "                    simulation_speed=1.0)           # speed of the simulation\n",
        "\n",
        "sim_video.set_units(distance_string=\"feet\",         # ENTER distance unit.\n",
        "                    time_string=\"seconds\",          # ENTER time unit.\n",
        "                    speed_string=\"feet/second\")     # ENTER speed units.\n",
        "\n",
        "\n",
        "# Create and save your video:\n",
        "video = sim_video.create_video()\n",
        "video.ipython_display()"
      ]
    },
    {
      "cell_type": "markdown",
      "metadata": {
        "id": "OQie2kQDVY1l"
      },
      "source": [
        "# Make videos V: Make title and explanatory text images\n",
        "You can create many text frames and save them into different frames.<br>\n",
        "This is done using <tt>saveImage(\"filename.png\")</tt> as given below:\n",
        "```\n",
        "text = \"\"\"First line.\n",
        "Second line.\n",
        "Third line.\"\"\"\n",
        "textImage(frame1.png\", text)\n",
        "```\n",
        "\n",
        "## Assignment: Create text images\n",
        "Fill out the explanatory text images."
      ]
    },
    {
      "cell_type": "code",
      "execution_count": null,
      "metadata": {
        "id": "Njtc11oMVY1l"
      },
      "outputs": [],
      "source": [
        "# Create Title and group name here\n",
        "text = \"\"\"Your Title\n",
        "Your Group members' names\n",
        "\"\"\"\n",
        "textImage(\"frame1.png\", text)\n",
        "\n",
        "# Who is racing?\n",
        "text = \"\"\" The ... are racing ...\n",
        "\"\"\"\n",
        "textImage(\"frame2.png\", text)\n",
        "\n",
        "# Why they are racing?\n",
        "text = \"\"\" They are racing because\n",
        "...\n",
        "\"\"\"\n",
        "textImage(\"frame3.png\", text)\n",
        "\n",
        "\n",
        "# Character 1 equation and explanation:\n",
        "text = \"\"\" Character 1 equation:\n",
        "y = ? * x\n",
        "...\n",
        "\"\"\"\n",
        "textImage(\"frame4.png\", text)\n",
        "\n",
        "# Character 2 equation and explanation:\n",
        "text = \"\"\" Character 2 equation:\n",
        "y = ? * x\n",
        "...\n",
        "\"\"\"\n",
        "textImage(\"frame5.png\", text)\n",
        "\n",
        "# Character 3 equation and explanation:\n",
        "text = \"\"\" Character 3 equation:\n",
        "y = ? * x\n",
        "...\n",
        "\"\"\"\n",
        "textImage(\"frame6.png\", text)\n",
        "\n",
        "\n",
        "# Character 4 equation and explanation:\n",
        "text = \"\"\" Character 4 equation:\n",
        "y = ? * x\n",
        "...\n",
        "\"\"\"\n",
        "textImage(\"frame7.png\", text)\n",
        "\n",
        "\n",
        "# Explain the winner:\n",
        "text = \"\"\" ??? won because ...\n",
        "...\n",
        "\"\"\"\n",
        "textImage(\"frame8.png\", text)\n",
        "\n",
        "# Victory page:\n",
        "text = \"\"\" ...\n",
        "...\n",
        "\"\"\"\n",
        "textImage(\"frame9.png\", text)"
      ]
    },
    {
      "cell_type": "markdown",
      "metadata": {
        "id": "B9iQEBjkVY1l"
      },
      "source": [
        "# Make videos VII: Make the final video\n",
        "You can make the final video by combining images and videos together.\n",
        "\n",
        "## Assignment: Make final video\n",
        "Verify that your video satisfies the requirements of your assignment!"
      ]
    },
    {
      "cell_type": "code",
      "execution_count": null,
      "metadata": {
        "id": "7M3Vf1ullPFA"
      },
      "outputs": [],
      "source": [
        "# Confirm that you have all the image here:\n",
        "img_list = [\"frame1.png\", \"frame2.png\", \"frame3.png\",\n",
        "            \"race.mp4\",\n",
        "            \"char1.png\", \"frame4.png\",\n",
        "            \"char2.png\", \"frame5.png\",\n",
        "            \"char3.png\", \"frame6.png\",\n",
        "            \"char4.png\", \"frame7.png\", \"race.png\",\n",
        "            \"frame8.png\", \"frame9.png\"]\n",
        "\n",
        "# Create the video:\n",
        "video=CreateVideo(video_name=\"all.mp4\",     # This is file name of the final video.\n",
        "                  file_list=img_list,        # This the list of images and files to combine.\n",
        "                  fps=10,                   # The number of frames per second.\n",
        "                  duration=1.0)            # The duration for each image.\n",
        "\n",
        "# Display the video:\n",
        "video.ipython_display()"
      ]
    },
    {
      "cell_type": "markdown",
      "metadata": {
        "id": "U9vbWX4CVY1m"
      },
      "source": [
        "# Playing and downloading videos\n",
        "\n",
        "<b>Video controls</b>\n",
        "![im1.png](data:image/png;base64,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)\n",
        "\n",
        "<b>Download File after you click on dots icon :</b>\n",
        "![im2.png](data:image/png;base64,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)"
      ]
    },
    {
      "cell_type": "code",
      "source": [],
      "metadata": {
        "id": "EFah6aWk0397"
      },
      "execution_count": null,
      "outputs": []
    }
  ],
  "metadata": {
    "colab": {
      "provenance": [],
      "toc_visible": true,
      "include_colab_link": true
    },
    "kernelspec": {
      "display_name": "pytorch",
      "language": "python",
      "name": "python3"
    },
    "language_info": {
      "codemirror_mode": {
        "name": "ipython",
        "version": 3
      },
      "file_extension": ".py",
      "mimetype": "text/x-python",
      "name": "python",
      "nbconvert_exporter": "python",
      "pygments_lexer": "ipython3",
      "version": "3.10.13"
    }
  },
  "nbformat": 4,
  "nbformat_minor": 0
}